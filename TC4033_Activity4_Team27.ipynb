{
  "cells": [
    {
      "cell_type": "markdown",
      "id": "41b7905f-a070-4ffe-abfc-67fbcd2adaa9",
      "metadata": {
        "id": "41b7905f-a070-4ffe-abfc-67fbcd2adaa9"
      },
      "source": [
        "## TC 5033\n",
        "## Deep Learning\n",
        "## Transformers\n",
        "\n",
        "#### Activity 4: Implementing a Translator\n",
        "\n",
        "- Objective\n",
        "\n",
        "To understand the Transformer Architecture by Implementing a translator.\n",
        "\n",
        "- Instructions\n",
        "\n",
        "    This activity requires submission in teams. While teamwork is encouraged, each member is expected to contribute individually to the assignment. The final submission should feature the best arguments and solutions from each team member. Only one person per team needs to submit the completed work, but it is imperative that the names of all team members are listed in a Markdown cell at the very beginning of the notebook (either the first or second cell). Failure to include all team member names will result in the grade being awarded solely to the individual who submitted the assignment, with zero points given to other team members (no exceptions will be made to this rule).\n",
        "\n",
        "    Follow the provided code. The code already implements a transformer from scratch as explained in one of [week's 9 videos](https://youtu.be/XefFj4rLHgU)\n",
        "\n",
        "    Since the provided code already implements a simple translator, your job for this assignment is to understand it fully, and document it using pictures, figures, and markdown cells.  You should test your translator with at least 10 sentences. The dataset used for this task was obtained from [Tatoeba, a large dataset of sentences and translations](https://tatoeba.org/en/downloads).\n",
        "  \n",
        "- Evaluation Criteria\n",
        "\n",
        "    - Code Readability and Comments\n",
        "    - Traning a translator\n",
        "    - Translating at least 10 sentences.\n",
        "\n",
        "- Submission\n",
        "\n",
        "Submit this Jupyter Notebook in canvas with your complete solution, ensuring your code is well-commented and includes Markdown cells that explain your design choices, results, and any challenges you encountered.\n",
        "\n"
      ]
    },
    {
      "cell_type": "markdown",
      "source": [
        "#####Team 27 Members:\n",
        "\n",
        "- Juan Antonio Chiñas Mata: A01794191\n",
        "- José Alejandro Cortés Pérez: A01795033\n",
        "- Moises Flores Ortíz: A01795489\n",
        "- Mardonio Manuel Román Ramírez: A01795265\n",
        "- Miriam Eunice Rosas Medellín: A01795550\n",
        "\n",
        "#####Evaluation:\n",
        "\n",
        "- **Code Commenting:**\n",
        "The clarity, accuracy, and thoroughness of comments explaining the provided code. You are suggested to use markdown cells for your explanations.\n",
        "- **Translator functionality:**\n",
        "A working model is provided. You are free to use it as long as you make sure to uderstand it, you may as well improve it as you see fit. The minimum expected is to provide comments for the given function.\n",
        "- **Test translator with > 10 short sentences:**\n",
        "You test your model with >10 short sentences, the quality of the translation is not evaluated.\n",
        "- **Conclusions:**\n",
        "You may include any insight you consider relevant, such the performance of the model on such a limited dataset and compute power, quality of translation, or any other aspect you consider relevant.\n",
        "\n",
        "######Dataset obtained from:\n",
        "\n",
        "https://www.google.com/url?q=https%3A%2F%2Ftatoeba.org%2Fen%2Fdownloads\n"
      ],
      "metadata": {
        "id": "DCaheVMU_5V4"
      },
      "id": "DCaheVMU_5V4"
    },
    {
      "cell_type": "markdown",
      "source": [
        "###Environment of choice\n",
        "\n",
        "Given that this model architecture requires a robust set of computational resources, the environment of choice for the execution of the following exercise was:\n",
        "- Colab Pro\n",
        "- A100 GPU\n",
        "- High-RAM configuration\n",
        "\n",
        "With the above settings for a full run of the below cells, the consumption was around 12 compute units as specified [here](https://colab.research.google.com/signup)."
      ],
      "metadata": {
        "id": "cSGoL24SCA_g"
      },
      "id": "cSGoL24SCA_g"
    },
    {
      "cell_type": "code",
      "source": [
        "from google.colab import drive\n",
        "drive.mount('/content/drive')"
      ],
      "metadata": {
        "colab": {
          "base_uri": "https://localhost:8080/"
        },
        "id": "gEb7M6J8XCuU",
        "outputId": "744f2d12-4d76-4f28-ea99-618ba71ba53d"
      },
      "id": "gEb7M6J8XCuU",
      "execution_count": null,
      "outputs": [
        {
          "output_type": "stream",
          "name": "stdout",
          "text": [
            "Mounted at /content/drive\n"
          ]
        }
      ]
    },
    {
      "cell_type": "markdown",
      "id": "17f54c65",
      "metadata": {
        "heading_collapsed": true,
        "id": "17f54c65"
      },
      "source": [
        "#### Script to convert csv to text file\n",
        "\n",
        "To convert the tab-separated file into a csv, a spreadsheet application was used, however the encoding in the sentences was **Windows 1252**, therefore it had to be specified in the `read_csv` function.\n",
        "\n",
        "The csv data file used in the exercise can be downloaded [here](https://drive.google.com/file/d/1SKHLzhDTdF5SPJgR4UkR4QMi9zSGvmMj/view?usp=sharing).\n",
        "\n",
        "Additionally, as Colab was the environment of choice the path is relative to a Google Drive mount. To successfully re-run this notebook, the `PATH` variable would need to be adjusted to the applicable working directory or a similar PATH is to be created in the user's Google Drive."
      ]
    },
    {
      "cell_type": "code",
      "execution_count": null,
      "id": "8f02c0c2",
      "metadata": {
        "hidden": true,
        "id": "8f02c0c2"
      },
      "outputs": [],
      "source": [
        "#This script requires to convert the TSV file to CSV\n",
        "# easiest way is to open it in Calc or excel and save as csv\n",
        "\n",
        "PATH = '/content/drive/MyDrive/DeepLearning/sentences_eng_spa_2024.csv'\n",
        "import pandas as pd\n",
        "df = pd.read_csv(PATH, encoding='cp1252') # Added the cp1252 encoding"
      ]
    },
    {
      "cell_type": "markdown",
      "source": [
        "### Dataset Preprocessing\n",
        "\n",
        "We extract columns in positions 1 & 3 which correspond with the english and spanish sentences respectively. See the example below:\n",
        "\n",
        "![image.png](data:image/png;base64,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)\n",
        "\n",
        "Then, we calculate the length in order to sort the sentences by this property and store the output in a text file."
      ],
      "metadata": {
        "id": "OZIzMNHkF51V"
      },
      "id": "OZIzMNHkF51V"
    },
    {
      "cell_type": "code",
      "execution_count": null,
      "id": "787d9408",
      "metadata": {
        "hidden": true,
        "colab": {
          "base_uri": "https://localhost:8080/"
        },
        "id": "787d9408",
        "outputId": "737f7595-31dd-4aa4-d5e4-fe32fa3ece01"
      },
      "outputs": [
        {
          "output_type": "stream",
          "name": "stderr",
          "text": [
            "<ipython-input-3-ca910e64b7d7>:2: SettingWithCopyWarning: \n",
            "A value is trying to be set on a copy of a slice from a DataFrame.\n",
            "Try using .loc[row_indexer,col_indexer] = value instead\n",
            "\n",
            "See the caveats in the documentation: https://pandas.pydata.org/pandas-docs/stable/user_guide/indexing.html#returning-a-view-versus-a-copy\n",
            "  eng_spa_cols['length'] = eng_spa_cols.iloc[:, 0].str.len()\n"
          ]
        }
      ],
      "source": [
        "eng_spa_cols = df.iloc[:, [1, 3]] # Extract the columns 1 & 3\n",
        "eng_spa_cols['length'] = eng_spa_cols.iloc[:, 0].str.len()   # Add a length column for each sentence in the source language\n",
        "eng_spa_cols = eng_spa_cols.sort_values(by='length')  # Sort by length\n",
        "eng_spa_cols = eng_spa_cols.drop(columns=['length'])  # Drop the aux length column\n",
        "\n",
        "# Save the resulting data into a text file in Google Drive\n",
        "output_file_path = '/content/drive/MyDrive/DeepLearning/eng-spa4.txt'\n",
        "eng_spa_cols.to_csv(output_file_path, sep='\\t', index=False, header=False)"
      ]
    },
    {
      "cell_type": "markdown",
      "id": "7d468e9a",
      "metadata": {
        "id": "7d468e9a"
      },
      "source": [
        "## Transformer - Attention is all you need"
      ]
    },
    {
      "cell_type": "code",
      "execution_count": null,
      "id": "d5dcf681",
      "metadata": {
        "colab": {
          "base_uri": "https://localhost:8080/"
        },
        "id": "d5dcf681",
        "outputId": "3d30170e-f5f3-44c8-8e80-497edc3d99ad"
      },
      "outputs": [
        {
          "output_type": "execute_result",
          "data": {
            "text/plain": [
              "<torch._C.Generator at 0x7a8c0843d1f0>"
            ]
          },
          "metadata": {},
          "execution_count": 4
        }
      ],
      "source": [
        "# Required libraries\n",
        "import torch\n",
        "import torch.nn as nn\n",
        "import torch.nn.functional as F\n",
        "import torch.optim as optim\n",
        "from torch.utils.data import Dataset, DataLoader\n",
        "from collections import Counter\n",
        "import math\n",
        "import numpy as np\n",
        "import re\n",
        "\n",
        "torch.manual_seed(23)"
      ]
    },
    {
      "cell_type": "markdown",
      "source": [
        "**NOTE:**\n",
        "\n",
        "It is highly recommended to use a GPU for the training of the below model."
      ],
      "metadata": {
        "id": "LQFweQZtHbEA"
      },
      "id": "LQFweQZtHbEA"
    },
    {
      "cell_type": "code",
      "execution_count": null,
      "id": "2c2cbd17",
      "metadata": {
        "colab": {
          "base_uri": "https://localhost:8080/"
        },
        "id": "2c2cbd17",
        "outputId": "6a68a309-1110-47bb-8873-752789a5c173"
      },
      "outputs": [
        {
          "output_type": "stream",
          "name": "stdout",
          "text": [
            "cuda\n"
          ]
        }
      ],
      "source": [
        "# Use GPU if available\n",
        "device = torch.device('cuda' if torch.cuda.is_available() else 'cpu')\n",
        "print(device)"
      ]
    },
    {
      "cell_type": "code",
      "execution_count": null,
      "id": "9c6623a1",
      "metadata": {
        "id": "9c6623a1"
      },
      "outputs": [],
      "source": [
        "# The maximum length of any sentence used in the training corpus\n",
        "MAX_SEQ_LEN = 128"
      ]
    },
    {
      "cell_type": "markdown",
      "source": [
        "### Model Architecture\n",
        "\n",
        "The model architecture chosen in this exercise is inspired in the original architecture proposed in the \"Attention is all you need\" paper (https://arxiv.org/abs/1706.03762).\n",
        "\n",
        "The architecture is based on one encoder and one decoder blocks connected through an Attention Mechanism and dispose from the previously standard use of Recurrent and Convolutional components in transduction models.\n",
        "\n",
        "![image.png](data:image/png;base64,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)"
      ],
      "metadata": {
        "id": "j4tAI4tkPHCA"
      },
      "id": "j4tAI4tkPHCA"
    },
    {
      "cell_type": "markdown",
      "source": [
        "### Design approach\n",
        "\n",
        "A block design approach was taken with each of the blocks depicted in the architecture above being represented by a class that inherits from PyTorch's `nn.Module`. The outtermost class represents at a higher level abstraction the Transformer itself and it breaks down into an encoder and decoder that implement their inner components as classes themselves.\n",
        "\n",
        "\n",
        "\n",
        "\n"
      ],
      "metadata": {
        "id": "Yak0xUsyHr76"
      },
      "id": "Yak0xUsyHr76"
    },
    {
      "cell_type": "markdown",
      "source": [
        "### Relevant architecture attributes\n",
        "\n",
        "- `num_layers`: The number of times that the encoder and decoder blocks are repeated.\n",
        "- `d_model`: It's a multi-purpose attribute used for the embeddings size and to represent the dimensions of several of the components within the architecture. A single value is used to help homogenize the sizes of the Tensors used in calculations and minimize the size compatibility issues in-between layers.\n",
        "- `num_heads`: The number of times that the attention mechanism is calculated for each of the multi-head attention layers.\n",
        "- `d_ff`: The feed forward hidden layer size.\n",
        "- `input_vocab_size`: The length of the source vocabulary in word counts.\n",
        "- `output_vocab_size`: The length of the target vocabulary in word counts.\n",
        "- `MAX_SEQ_LEN`: The maximum length of any sentence used in the training corpus\n",
        "- `dropout`: The proportion of dropout to use\n",
        "\n"
      ],
      "metadata": {
        "id": "6Ba00E0WPKHK"
      },
      "id": "6Ba00E0WPKHK"
    },
    {
      "cell_type": "markdown",
      "source": [
        "### Block components\n",
        "\n",
        "####Transformer\n",
        "- Class: **Transformer**\n",
        "- Description: Outermost component that receives all of the relevant architecture attributes and passes them down to all the appropriate sub-components. Includes the embeddings layers that are used as inputs for both the `Encoder` & `Decoder`. This class also specifies the positional encoding used as input for the encoder and decoder. Lastly, it passes the results obtained from the decoder through a Linear layer that it defines itself.\n",
        "\n",
        "####Positional Encoding\n",
        "- Class: **PositionalEmbedding**\n",
        "- Description: This layer uses a series of sine and cosine functions to encode the position of each of the embeddings in the passed sequences. Transformers process words simultaneously, therefore the transformer requires a mechanism through which it can recover the position of each of the embeddings after they been passed through.\n",
        "\n",
        "####Multi-Head Attention\n",
        "- Class: **MultiHeadAttention**\n",
        "- Description: Performs the attention calculations on the input positional embeddings by calculating a Query, Key and Value matrices and then performing a Scaled-Dot-Product Attention operation between the Queries and Keys of each embedding in the sequence. This operation is repeated equal to the `num_heads` attribute.\n",
        "\n",
        "####Feed Forward\n",
        "- Class: **PositionFeedForward**\n",
        "- Description: A series of two Fully-Connected layers passed through a ReLU activation function in between. The dimensionality of input and output is `d_model` and the inner_layer is `d_ff`.\n",
        "\n",
        "####Encoder\n",
        "- Class: **Encoder**\n",
        "- Description: The encoder component contains `num_layers` times `EncoderSubLayer` and they are passed through a normalization stage to generate it's output.\n",
        "\n",
        "####Encoder (Inner components)\n",
        "- Class: **EncoderSubLayer**\n",
        "- Description: Integrates the Attention mechanism with the feed forward stage for each of the stacks defined by `num_layers`. It defines a residual connection that feeds the input bypassing the Multi-Head Attention Layer and performs appropriate normalization and dropout operations after each of the Attention and FF stages. Notice how here, self-attention is implemented, where only the encoder inputs are considered within the MHA block.\n",
        "\n",
        "####Decoder\n",
        "- Class: **Decoder**\n",
        "- Description: The decoder component contains `num_layers` times `DecoderSubLayer` and they are passed through a normalization stage to generate it's output.\n",
        "\n",
        "####Decoder (Inner components)\n",
        "- Class: **DecoderSubLayer**\n",
        "- Description: Integrates the Attention mechanism with the feed forward stage for each of the stacks defined by `num_layers`. It defines a residual connection that feeds the input bypassing the Multi-Head Attention Layer and performs appropriate normalization and dropout operations after each of the Attention and FF stages. Notice how here, both self-attention and cross-attention are implemented. In the cross-attention block, the output of the encoder are considered within the middle attention block. Lastly, in the decoder the input to the self-attention block are masked to prevent the attention mechanism from \"seeing\" beyond the current word."
      ],
      "metadata": {
        "id": "BA_1RbptPWtW"
      },
      "id": "BA_1RbptPWtW"
    },
    {
      "cell_type": "markdown",
      "source": [
        "Let's define the above classes:"
      ],
      "metadata": {
        "id": "nsbt_qnvcqUg"
      },
      "id": "nsbt_qnvcqUg"
    },
    {
      "cell_type": "code",
      "execution_count": null,
      "id": "3103d45f",
      "metadata": {
        "code_folding": [
          30,
          94
        ],
        "id": "3103d45f"
      },
      "outputs": [],
      "source": [
        "class PositionalEmbedding(nn.Module):\n",
        "    \"\"\"\n",
        "    Positional Encoding class.\n",
        "\n",
        "    Args:\n",
        "        d_model (int): The size of the embedding vectors.\n",
        "        max_seq_len (int): The maximum sequence length allowed.\n",
        "    \"\"\"\n",
        "    def __init__(self, d_model, max_seq_len = MAX_SEQ_LEN):\n",
        "        super().__init__()\n",
        "\n",
        "        # Defines a zeros matrix of the max seq length by the d_model size\n",
        "        self.pos_embed_matrix = torch.zeros(max_seq_len, d_model, device=device)\n",
        "\n",
        "        # Token position\n",
        "        token_pos = torch.arange(0, max_seq_len, dtype = torch.float).unsqueeze(1)\n",
        "\n",
        "        # The dividing term in the sinusoidal functions\n",
        "        div_term = torch.exp(torch.arange(0, d_model, 2).float()\n",
        "                             * (-math.log(10000.0)/d_model))\n",
        "        # Calculate positional encodings for pairs with sine\n",
        "        self.pos_embed_matrix[:, 0::2] = torch.sin(token_pos * div_term)\n",
        "\n",
        "        # Calculate positional encodings for odds with cosine\n",
        "        self.pos_embed_matrix[:, 1::2] = torch.cos(token_pos * div_term)\n",
        "\n",
        "        # Alignment and size compatibility transformations\n",
        "        self.pos_embed_matrix = self.pos_embed_matrix.unsqueeze(0).transpose(0,1)\n",
        "\n",
        "    def forward(self, x):\n",
        "        # Add the positional encoding to the input embeddings\n",
        "        return x + self.pos_embed_matrix[:x.size(0), :]\n",
        "\n",
        "class MultiHeadAttention(nn.Module):\n",
        "    \"\"\"\n",
        "    Multi-Head Attention class.\n",
        "\n",
        "    Args:\n",
        "        d_model (int): The size of the embedding vectors.\n",
        "        num_heads (int): Number of heads (scaled-dot-product attention operations).\n",
        "    \"\"\"\n",
        "    def __init__(self, d_model = 512, num_heads = 8):\n",
        "        super().__init__()\n",
        "\n",
        "        # Ensure num_heads is a factor of d_model\n",
        "        assert d_model % num_heads == 0, 'Embedding size not compatible with num heads'\n",
        "\n",
        "        # Integer division\n",
        "        self.d_v = d_model // num_heads\n",
        "        self.d_k = self.d_v\n",
        "        self.num_heads = num_heads\n",
        "\n",
        "        # W_q, W_k, W_v and W_o are just a single layer FC network of d_model size\n",
        "        self.W_q = nn.Linear(d_model, d_model)\n",
        "        self.W_k = nn.Linear(d_model, d_model)\n",
        "        self.W_v = nn.Linear(d_model, d_model)\n",
        "        self.W_o = nn.Linear(d_model, d_model)\n",
        "\n",
        "    def forward(self, Q, K, V, mask = None):\n",
        "        batch_size = Q.size(0)\n",
        "        '''\n",
        "        Q, K, V -> [batch_size, seq_len, num_heads*d_k]\n",
        "        after transpose Q, K, V -> [batch_size, num_heads, seq_len, d_k]\n",
        "        '''\n",
        "        # Perform the forward pass between the weights and Q, K & V\n",
        "        Q = self.W_q(Q).view(batch_size, -1, self.num_heads, self.d_k).transpose(1, 2 )\n",
        "        K = self.W_k(K).view(batch_size, -1, self.num_heads, self.d_k).transpose(1, 2 )\n",
        "        V = self.W_v(V).view(batch_size, -1, self.num_heads, self.d_k).transpose(1, 2 )\n",
        "\n",
        "        # Perform the attention scaled-dot-product\n",
        "        weighted_values, attention = self.scale_dot_product(Q, K, V, mask)\n",
        "\n",
        "        # Concatenate the results\n",
        "        weighted_values = weighted_values.transpose(1, 2).contiguous().view(batch_size, -1, self.num_heads*self.d_k)\n",
        "\n",
        "        # Pass through the output Linear layer\n",
        "        weighted_values = self.W_o(weighted_values)\n",
        "\n",
        "        return weighted_values, attention\n",
        "\n",
        "\n",
        "    def scale_dot_product(self, Q, K, V, mask = None):\n",
        "        # Obtain all Q dot K results in one go through a matrix multiplication\n",
        "        scores = torch.matmul(Q, K.transpose(-2, -1)) / math.sqrt(self.d_k)\n",
        "\n",
        "        # Apply the mask if applicable\n",
        "        if mask is not None:\n",
        "            scores = scores.masked_fill(mask == 0, -1e9)\n",
        "\n",
        "        # Softmax to obtain the probability distribution\n",
        "        attention = F.softmax(scores, dim = -1)\n",
        "\n",
        "        # Softmaxed result times V\n",
        "        weighted_values = torch.matmul(attention, V)\n",
        "\n",
        "        return weighted_values, attention\n",
        "\n",
        "\n",
        "class PositionFeedForward(nn.Module):\n",
        "    \"\"\"\n",
        "    Feed Forward class\n",
        "\n",
        "    Args:\n",
        "        d_model (int): The size of the embedding vectors.\n",
        "        d_ff (int): Hidden layer size.\n",
        "    \"\"\"\n",
        "    def __init__(self, d_model, d_ff):\n",
        "        super().__init__()\n",
        "\n",
        "        # Input layer\n",
        "        self.linear1 = nn.Linear(d_model, d_ff)\n",
        "\n",
        "        # Output layer of same size as input\n",
        "        self.linear2 = nn.Linear(d_ff, d_model)\n",
        "\n",
        "    def forward(self, x):\n",
        "        # Pass through both layers with a ReLU activation in between\n",
        "        return self.linear2(F.relu(self.linear1(x)))\n",
        "\n",
        "class EncoderSubLayer(nn.Module):\n",
        "    \"\"\"\n",
        "    Encoder SubLayer class.\n",
        "\n",
        "    Args:\n",
        "        d_model (int): The size of the embedding vectors.\n",
        "        num_heads (int): Number of heads (scaled-dot-product attention operations).\n",
        "        d_ff (int): Hidden layer size.\n",
        "        dropout (float): The proportion of dropout to use.\n",
        "    \"\"\"\n",
        "    def __init__(self, d_model, num_heads, d_ff, dropout = 0.1):\n",
        "        super().__init__()\n",
        "\n",
        "        # Init the inner blocks\n",
        "        self.self_attn = MultiHeadAttention(d_model, num_heads)\n",
        "        self.ffn = PositionFeedForward(d_model, d_ff)\n",
        "        self.norm1 = nn.LayerNorm(d_model)\n",
        "        self.norm2 = nn.LayerNorm(d_model)\n",
        "        self.droupout1 = nn.Dropout(dropout)\n",
        "        self.droupout2 = nn.Dropout(dropout)\n",
        "\n",
        "    def forward(self, x, mask = None):\n",
        "        # Pass through the self attention block passing in the inputs as Q, K & V\n",
        "        attention_score, _ = self.self_attn(x, x, x, mask)\n",
        "\n",
        "        # Residual connection with dropout\n",
        "        x = x + self.droupout1(attention_score)\n",
        "\n",
        "        # Normalization\n",
        "        x = self.norm1(x)\n",
        "\n",
        "        # Residual connection with dropout after a Position Feed Forward pass\n",
        "        x = x + self.droupout2(self.ffn(x))\n",
        "\n",
        "        # Normalization\n",
        "        return self.norm2(x)\n",
        "\n",
        "class Encoder(nn.Module):\n",
        "    \"\"\"\n",
        "    Encoder class.\n",
        "\n",
        "    Args:\n",
        "        d_model (int): The size of the embedding vectors.\n",
        "        num_heads (int): Number of heads (scaled-dot-product attention operations).\n",
        "        d_ff (int): Hidden layer size.\n",
        "        num_layers (int): The number of times that the encoder block is repeated.\n",
        "        dropout (float): The proportion of dropout to use.\n",
        "    \"\"\"\n",
        "    def __init__(self, d_model, num_heads, d_ff, num_layers, dropout=0.1):\n",
        "        super().__init__()\n",
        "\n",
        "        # Initialize EncoderSubLayers equal to the value of num_layers\n",
        "        self.layers = nn.ModuleList([EncoderSubLayer(d_model, num_heads, d_ff, dropout) for _ in range(num_layers)])\n",
        "\n",
        "        # Normalization\n",
        "        self.norm = nn.LayerNorm(d_model)\n",
        "\n",
        "    def forward(self, x, mask=None):\n",
        "        # Pass through for each of the SubLayers (THIS STEP IS PARALELIZABLE!!)\n",
        "        for layer in self.layers:\n",
        "            x = layer(x, mask)\n",
        "        # Normalization\n",
        "        return self.norm(x)\n",
        "\n",
        "class DecoderSubLayer(nn.Module):\n",
        "    \"\"\"\n",
        "    Decoder SubLayer class.\n",
        "\n",
        "    Args:\n",
        "        d_model (int): The size of the embedding vectors.\n",
        "        num_heads (int): Number of heads (scaled-dot-product attention operations).\n",
        "        d_ff (int): Hidden layer size.\n",
        "        dropout (float): The proportion of dropout to use.\n",
        "    \"\"\"\n",
        "    def __init__(self, d_model, num_heads, d_ff, dropout=0.1):\n",
        "        super().__init__()\n",
        "\n",
        "        # Init the inner blocks\n",
        "        self.self_attn = MultiHeadAttention(d_model, num_heads)\n",
        "        self.cross_attn = MultiHeadAttention(d_model, num_heads)\n",
        "        self.feed_forward = PositionFeedForward(d_model, d_ff)\n",
        "        self.norm1 = nn.LayerNorm(d_model)\n",
        "        self.norm2 = nn.LayerNorm(d_model)\n",
        "        self.norm3 = nn.LayerNorm(d_model)\n",
        "        self.dropout1 = nn.Dropout(dropout)\n",
        "        self.dropout2 = nn.Dropout(dropout)\n",
        "        self.dropout3 = nn.Dropout(dropout)\n",
        "\n",
        "    def forward(self, x, encoder_output, target_mask=None, encoder_mask=None):\n",
        "        # Pass through the self attention block passing in the inputs as Q, K & V, here we will use a mask\n",
        "        attention_score, _ = self.self_attn(x, x, x, target_mask)\n",
        "\n",
        "        # Residual connection with dropout\n",
        "        x = x + self.dropout1(attention_score)\n",
        "\n",
        "        # Normalization\n",
        "        x = self.norm1(x)\n",
        "\n",
        "        # Cross-Attention using the encoder output for Q and K and it's inputs for V\n",
        "        encoder_attn, _ = self.cross_attn(x, encoder_output, encoder_output, encoder_mask)\n",
        "\n",
        "        # Residual connection with dropout\n",
        "        x = x + self.dropout2(encoder_attn)\n",
        "\n",
        "        # Normalization\n",
        "        x = self.norm2(x)\n",
        "\n",
        "        # Feed Forward Pass\n",
        "        ff_output = self.feed_forward(x)\n",
        "\n",
        "        # Residual connection with dropout\n",
        "        x = x + self.dropout3(ff_output)\n",
        "\n",
        "        # Normalization\n",
        "        return self.norm3(x)\n",
        "\n",
        "class Decoder(nn.Module):\n",
        "    \"\"\"\n",
        "    Decoder class.\n",
        "\n",
        "    Args:\n",
        "        d_model (int): The size of the embedding vectors.\n",
        "        num_heads (int): Number of heads (scaled-dot-product attention operations).\n",
        "        d_ff (int): Hidden layer size.\n",
        "        num_layers (int): The number of times that the decoder block is repeated.\n",
        "        dropout (float): The proportion of dropout to use.\n",
        "    \"\"\"\n",
        "    def __init__(self, d_model, num_heads, d_ff, num_layers, dropout=0.1):\n",
        "        super().__init__()\n",
        "\n",
        "        # Initialize EncoderSubLayers equal to the value of num_layers\n",
        "        self.layers = nn.ModuleList([DecoderSubLayer(d_model, num_heads, d_ff, dropout) for _ in range(num_layers)])\n",
        "\n",
        "        # Normalization\n",
        "        self.norm = nn.LayerNorm(d_model)\n",
        "\n",
        "    def forward(self, x, encoder_output, target_mask, encoder_mask):\n",
        "        # Pass through for each of the SubLayers (THIS STEP IS PARALELIZABLE!!)\n",
        "        for layer in self.layers:\n",
        "            x = layer(x, encoder_output, target_mask, encoder_mask)\n",
        "        # Normalization\n",
        "        return self.norm(x)"
      ]
    },
    {
      "cell_type": "code",
      "execution_count": null,
      "id": "61070162",
      "metadata": {
        "code_folding": [],
        "id": "61070162"
      },
      "outputs": [],
      "source": [
        "class Transformer(nn.Module):\n",
        "    def __init__(self, d_model, num_heads, d_ff, num_layers,\n",
        "                 input_vocab_size, target_vocab_size,\n",
        "                 max_len=MAX_SEQ_LEN, dropout=0.1):\n",
        "        super().__init__()\n",
        "\n",
        "        # Init inner blocks\n",
        "        self.encoder_embedding = nn.Embedding(input_vocab_size, d_model)\n",
        "        self.decoder_embedding = nn.Embedding(target_vocab_size, d_model)\n",
        "        self.pos_embedding = PositionalEmbedding(d_model, max_len)\n",
        "        self.encoder = Encoder(d_model, num_heads, d_ff, num_layers, dropout)\n",
        "        self.decoder = Decoder(d_model, num_heads, d_ff, num_layers, dropout)\n",
        "        self.output_layer = nn.Linear(d_model, target_vocab_size)\n",
        "\n",
        "    def forward(self, source, target):\n",
        "        # Encoder mask\n",
        "        source_mask, target_mask = self.mask(source, target)\n",
        "        # Embedding and positional Encoding\n",
        "        source = self.encoder_embedding(source) * math.sqrt(self.encoder_embedding.embedding_dim)\n",
        "        source = self.pos_embedding(source)\n",
        "        # Encoder\n",
        "        encoder_output = self.encoder(source, source_mask)\n",
        "\n",
        "        # Decoder embedding and postional encoding\n",
        "        target = self.decoder_embedding(target) * math.sqrt(self.decoder_embedding.embedding_dim)\n",
        "        target = self.pos_embedding(target)\n",
        "        # Decoder\n",
        "        output = self.decoder(target, encoder_output, target_mask, source_mask)\n",
        "\n",
        "        return self.output_layer(output)\n",
        "\n",
        "\n",
        "\n",
        "    def mask(self, source, target):\n",
        "        # Prepare source and target masks\n",
        "        source_mask = (source != 0).unsqueeze(1).unsqueeze(2)\n",
        "        target_mask = (target != 0).unsqueeze(1).unsqueeze(2)\n",
        "        size = target.size(1)\n",
        "        no_mask = torch.tril(torch.ones((1, size, size), device=device)).bool()\n",
        "        target_mask = target_mask & no_mask\n",
        "        return source_mask, target_mask\n"
      ]
    },
    {
      "cell_type": "markdown",
      "id": "6da6b2d4",
      "metadata": {
        "heading_collapsed": true,
        "id": "6da6b2d4"
      },
      "source": [
        "#### Simple test\n",
        "\n",
        "The following test just confirms that the sizes match for the complete pass through the transformer by mocking a test embedding and forwarding it."
      ]
    },
    {
      "cell_type": "code",
      "execution_count": null,
      "id": "d40581d6",
      "metadata": {
        "hidden": true,
        "id": "d40581d6"
      },
      "outputs": [],
      "source": [
        "seq_len_source = 10\n",
        "seq_len_target = 10\n",
        "batch_size = 2\n",
        "input_vocab_size = 50\n",
        "target_vocab_size = 50\n",
        "\n",
        "source = torch.randint(1, input_vocab_size, (batch_size, seq_len_source))\n",
        "target = torch.randint(1, target_vocab_size, (batch_size, seq_len_target))"
      ]
    },
    {
      "cell_type": "code",
      "execution_count": null,
      "id": "fc7cf689",
      "metadata": {
        "hidden": true,
        "id": "fc7cf689"
      },
      "outputs": [],
      "source": [
        "d_model = 512\n",
        "num_heads = 8\n",
        "d_ff = 2048\n",
        "num_layers = 6\n",
        "\n",
        "model = Transformer(d_model, num_heads, d_ff, num_layers,\n",
        "                  input_vocab_size, target_vocab_size,\n",
        "                  max_len=MAX_SEQ_LEN, dropout=0.1)\n",
        "\n",
        "model = model.to(device)\n",
        "source = source.to(device)\n",
        "target = target.to(device)"
      ]
    },
    {
      "cell_type": "code",
      "execution_count": null,
      "id": "4618560e",
      "metadata": {
        "hidden": true,
        "id": "4618560e"
      },
      "outputs": [],
      "source": [
        "output = model(source, target)"
      ]
    },
    {
      "cell_type": "code",
      "execution_count": null,
      "id": "ab0bc69d",
      "metadata": {
        "hidden": true,
        "colab": {
          "base_uri": "https://localhost:8080/"
        },
        "id": "ab0bc69d",
        "outputId": "c12681cf-cf44-41f6-dba2-00acc2241e71"
      },
      "outputs": [
        {
          "output_type": "stream",
          "name": "stdout",
          "text": [
            "ouput.shape torch.Size([2, 10, 50])\n"
          ]
        }
      ],
      "source": [
        "# Expected output shape -> [batch, seq_len_target, target_vocab_size] i.e. [2, 10, 50]\n",
        "print(f'ouput.shape {output.shape}')"
      ]
    },
    {
      "cell_type": "markdown",
      "id": "0f4b2910",
      "metadata": {
        "id": "0f4b2910"
      },
      "source": [
        "### Translator Eng-Spa"
      ]
    },
    {
      "cell_type": "code",
      "execution_count": null,
      "id": "869a7244",
      "metadata": {
        "id": "869a7244"
      },
      "outputs": [],
      "source": [
        "PATH = '/content/drive/MyDrive/DeepLearning/eng-spa4.txt'"
      ]
    },
    {
      "cell_type": "code",
      "execution_count": null,
      "id": "d0af1eba",
      "metadata": {
        "id": "d0af1eba"
      },
      "outputs": [],
      "source": [
        "with open(PATH, 'r', encoding='utf-8') as f:\n",
        "    lines = f.readlines()\n",
        "eng_spa_pairs = [line.strip().split('\\t') for line in lines if '\\t' in line]"
      ]
    },
    {
      "cell_type": "code",
      "execution_count": null,
      "id": "c930226f",
      "metadata": {
        "colab": {
          "base_uri": "https://localhost:8080/"
        },
        "id": "c930226f",
        "outputId": "ae3ce634-b13b-4f72-913a-3b44120a785a"
      },
      "outputs": [
        {
          "output_type": "execute_result",
          "data": {
            "text/plain": [
              "[['Go.', 'Vete.'],\n",
              " ['Go.', 'Vaya.'],\n",
              " ['Go!', '¡Ve!'],\n",
              " ['Go!', '¡Ya!'],\n",
              " ['Hi.', 'Hola.'],\n",
              " ['Go!', '¡Sal!'],\n",
              " ['Go.', 'Váyase.'],\n",
              " ['Go!', '¡Fuera!'],\n",
              " ['No.', 'No.'],\n",
              " ['Go!', 'Váyase']]"
            ]
          },
          "metadata": {},
          "execution_count": 15
        }
      ],
      "source": [
        "eng_spa_pairs[:10]"
      ]
    },
    {
      "cell_type": "code",
      "execution_count": null,
      "id": "095f4037",
      "metadata": {
        "id": "095f4037"
      },
      "outputs": [],
      "source": [
        "eng_sentences = [pair[0] for pair in eng_spa_pairs]\n",
        "spa_sentences = [pair[1] for pair in eng_spa_pairs]"
      ]
    },
    {
      "cell_type": "code",
      "execution_count": null,
      "id": "0d9e1c95",
      "metadata": {
        "colab": {
          "base_uri": "https://localhost:8080/"
        },
        "id": "0d9e1c95",
        "outputId": "99f6d775-e8d8-4a5c-f681-b2c7d3e79e09"
      },
      "outputs": [
        {
          "output_type": "stream",
          "name": "stdout",
          "text": [
            "['Go.', 'Go.', 'Go!', 'Go!', 'Hi.', 'Go!', 'Go.', 'Go!', 'No.', 'Go!']\n",
            "['Vete.', 'Vaya.', '¡Ve!', '¡Ya!', 'Hola.', '¡Sal!', 'Váyase.', '¡Fuera!', 'No.', 'Váyase']\n"
          ]
        }
      ],
      "source": [
        "print(eng_sentences[:10])\n",
        "print(spa_sentences[:10])\n"
      ]
    },
    {
      "cell_type": "markdown",
      "source": [
        "#### Preprocessing part 2\n",
        "\n",
        "Before we process our sentences we must first cleanse the input. This will dramatically reduce the complexity and will allow our model to generalize better as special characters and punctuation and casing will all be moved out of the picture, effectively reducing the universe of character combinations that our model will have to learn to predict.\n",
        "\n",
        "We will convert everything to lowercase remove special tokens, accentuated characters and all special characters.\n",
        "\n",
        "Additionally, we add the start of sentence and end of sentence tokens."
      ],
      "metadata": {
        "id": "iR-5lm5RmjKV"
      },
      "id": "iR-5lm5RmjKV"
    },
    {
      "cell_type": "code",
      "execution_count": null,
      "id": "60d11478",
      "metadata": {
        "id": "60d11478"
      },
      "outputs": [],
      "source": [
        "def preprocess_sentence(sentence):\n",
        "    sentence = sentence.lower().strip()\n",
        "    sentence = re.sub(r'[\" \"]+', \" \", sentence)\n",
        "    sentence = re.sub(r\"[á]+\", \"a\", sentence)\n",
        "    sentence = re.sub(r\"[é]+\", \"e\", sentence)\n",
        "    sentence = re.sub(r\"[í]+\", \"i\", sentence)\n",
        "    sentence = re.sub(r\"[ó]+\", \"o\", sentence)\n",
        "    sentence = re.sub(r\"[ú]+\", \"u\", sentence)\n",
        "    sentence = re.sub(r\"[^a-z]+\", \" \", sentence)\n",
        "    sentence = sentence.strip()\n",
        "    sentence = '<sos> ' + sentence + ' <eos>'\n",
        "    return sentence"
      ]
    },
    {
      "cell_type": "code",
      "execution_count": null,
      "id": "478f673b",
      "metadata": {
        "id": "478f673b"
      },
      "outputs": [],
      "source": [
        "s1 = '¿Hola @ cómo estás? 123'"
      ]
    },
    {
      "cell_type": "code",
      "execution_count": null,
      "id": "96ac79c5",
      "metadata": {
        "colab": {
          "base_uri": "https://localhost:8080/"
        },
        "id": "96ac79c5",
        "outputId": "85113639-a8ce-4752-88e7-31f1d26f0628"
      },
      "outputs": [
        {
          "output_type": "stream",
          "name": "stdout",
          "text": [
            "¿Hola @ cómo estás? 123\n",
            "<sos> hola como estas <eos>\n"
          ]
        }
      ],
      "source": [
        "print(s1)\n",
        "print(preprocess_sentence(s1))"
      ]
    },
    {
      "cell_type": "code",
      "execution_count": null,
      "id": "d9fc9c4d",
      "metadata": {
        "id": "d9fc9c4d"
      },
      "outputs": [],
      "source": [
        "eng_sentences = [preprocess_sentence(sentence) for sentence in eng_sentences]\n",
        "spa_sentences = [preprocess_sentence(sentence) for sentence in spa_sentences]"
      ]
    },
    {
      "cell_type": "code",
      "execution_count": null,
      "id": "f7a3b18d",
      "metadata": {
        "colab": {
          "base_uri": "https://localhost:8080/"
        },
        "id": "f7a3b18d",
        "outputId": "5c07212a-6731-44d1-876e-b3bba2e97688"
      },
      "outputs": [
        {
          "output_type": "execute_result",
          "data": {
            "text/plain": [
              "['<sos> vete <eos>',\n",
              " '<sos> vaya <eos>',\n",
              " '<sos> ve <eos>',\n",
              " '<sos> ya <eos>',\n",
              " '<sos> hola <eos>',\n",
              " '<sos> sal <eos>',\n",
              " '<sos> vayase <eos>',\n",
              " '<sos> fuera <eos>',\n",
              " '<sos> no <eos>',\n",
              " '<sos> vayase <eos>']"
            ]
          },
          "metadata": {},
          "execution_count": 22
        }
      ],
      "source": [
        "spa_sentences[:10]"
      ]
    },
    {
      "cell_type": "code",
      "execution_count": null,
      "id": "97931cd3",
      "metadata": {
        "id": "97931cd3"
      },
      "outputs": [],
      "source": [
        "# Building the indexed vocabularies as maps\n",
        "def build_vocab(sentences):\n",
        "    words = [word for sentence in sentences for word in sentence.split()]\n",
        "    word_count = Counter(words)\n",
        "    sorted_word_counts = sorted(word_count.items(), key=lambda x:x[1], reverse=True)\n",
        "    word2idx = {word: idx for idx, (word, _) in enumerate(sorted_word_counts, 2)}\n",
        "    word2idx['<pad>'] = 0\n",
        "    word2idx['<unk>'] = 1\n",
        "    idx2word = {idx: word for word, idx in word2idx.items()}\n",
        "    return word2idx, idx2word"
      ]
    },
    {
      "cell_type": "code",
      "execution_count": null,
      "id": "7fa8738e",
      "metadata": {
        "id": "7fa8738e"
      },
      "outputs": [],
      "source": [
        "eng_word2idx, eng_idx2word = build_vocab(eng_sentences)\n",
        "spa_word2idx, spa_idx2word = build_vocab(spa_sentences)\n",
        "eng_vocab_size = len(eng_word2idx)\n",
        "spa_vocab_size = len(spa_word2idx)"
      ]
    },
    {
      "cell_type": "code",
      "execution_count": null,
      "id": "79d6b633",
      "metadata": {
        "colab": {
          "base_uri": "https://localhost:8080/"
        },
        "id": "79d6b633",
        "outputId": "c59639ac-f5ec-47bf-ebb8-60977045aeb6"
      },
      "outputs": [
        {
          "output_type": "stream",
          "name": "stdout",
          "text": [
            "27660 46955\n"
          ]
        }
      ],
      "source": [
        "print(eng_vocab_size, spa_vocab_size)"
      ]
    },
    {
      "cell_type": "markdown",
      "source": [
        "#### Dataset creation\n",
        "\n",
        "To create our dataset, we inherit from `Dataset` and implement both the `__len__()` and the `__getitem__()` methods."
      ],
      "metadata": {
        "id": "ezwTVAA1pdSg"
      },
      "id": "ezwTVAA1pdSg"
    },
    {
      "cell_type": "code",
      "execution_count": null,
      "id": "e564017c",
      "metadata": {
        "id": "e564017c"
      },
      "outputs": [],
      "source": [
        "class EngSpaDataset(Dataset):\n",
        "    def __init__(self, eng_sentences, spa_sentences, eng_word2idx, spa_word2idx):\n",
        "        self.eng_sentences = eng_sentences\n",
        "        self.spa_sentences = spa_sentences\n",
        "        self.eng_word2idx = eng_word2idx\n",
        "        self.spa_word2idx = spa_word2idx\n",
        "\n",
        "    def __len__(self):\n",
        "        return len(self.eng_sentences)\n",
        "\n",
        "    def __getitem__(self, idx):\n",
        "        eng_sentence = self.eng_sentences[idx]\n",
        "        spa_sentence = self.spa_sentences[idx]\n",
        "        # return tokens idxs\n",
        "        eng_idxs = [self.eng_word2idx.get(word, self.eng_word2idx['<unk>']) for word in eng_sentence.split()]\n",
        "        spa_idxs = [self.spa_word2idx.get(word, self.spa_word2idx['<unk>']) for word in spa_sentence.split()]\n",
        "\n",
        "        return torch.tensor(eng_idxs), torch.tensor(spa_idxs)"
      ]
    },
    {
      "cell_type": "markdown",
      "source": [
        "#### Collate function\n",
        "\n",
        "Defines how we go about pidding and creating our batches for training."
      ],
      "metadata": {
        "id": "88fHkEtfp44W"
      },
      "id": "88fHkEtfp44W"
    },
    {
      "cell_type": "code",
      "execution_count": 1,
      "id": "b579577b",
      "metadata": {
        "id": "b579577b"
      },
      "outputs": [],
      "source": [
        "# Collate function to be used inside our dataloader\n",
        "def collate_fn(batch):\n",
        "    eng_batch, spa_batch = zip(*batch)\n",
        "    eng_batch = [seq[:MAX_SEQ_LEN].clone().detach() for seq in eng_batch]\n",
        "    spa_batch = [seq[:MAX_SEQ_LEN].clone().detach() for seq in spa_batch]\n",
        "    eng_batch = torch.nn.utils.rnn.pad_sequence(eng_batch, batch_first=True, padding_value=0)\n",
        "    spa_batch = torch.nn.utils.rnn.pad_sequence(spa_batch, batch_first=True, padding_value=0)\n",
        "    return eng_batch, spa_batch\n"
      ]
    },
    {
      "cell_type": "markdown",
      "source": [
        "#### Training Function\n",
        "\n",
        "- Sends to device (GPU if possible)\n",
        "- Extracts the target input and output\n",
        "- Passes the source language batch to the model\n",
        "- Calculates a loss based on the outputs relationship with the target input\n",
        "- Backpropagates\n",
        "- Steps with an optimizer\n",
        "\n",
        "The training function continues for a set number of epochs."
      ],
      "metadata": {
        "id": "CVNdIxAHqQfY"
      },
      "id": "CVNdIxAHqQfY"
    },
    {
      "cell_type": "code",
      "execution_count": null,
      "id": "8d514b7c",
      "metadata": {
        "id": "8d514b7c"
      },
      "outputs": [],
      "source": [
        "# Typical training function\n",
        "def train(model, dataloader, loss_function, optimiser, epochs):\n",
        "    model.train()\n",
        "    for epoch in range(epochs):\n",
        "        total_loss = 0\n",
        "        for i, (eng_batch, spa_batch) in enumerate(dataloader):\n",
        "            eng_batch = eng_batch.to(device)\n",
        "            spa_batch = spa_batch.to(device)\n",
        "            # Decoder preprocessing\n",
        "            target_input = spa_batch[:, :-1]\n",
        "            target_output = spa_batch[:, 1:].contiguous().view(-1)\n",
        "            # Zero grads\n",
        "            optimiser.zero_grad()\n",
        "            # run model\n",
        "            output = model(eng_batch, target_input)\n",
        "            output = output.view(-1, output.size(-1))\n",
        "            # loss\\\n",
        "            loss = loss_function(output, target_output)\n",
        "            # gradient and update parameters\n",
        "            loss.backward()\n",
        "            optimiser.step()\n",
        "            total_loss += loss.item()\n",
        "\n",
        "        avg_loss = total_loss/len(dataloader)\n",
        "        print(f'Epoch: {epoch}/{epochs}, Loss: {avg_loss:.4f}')\n",
        "\n"
      ]
    },
    {
      "cell_type": "code",
      "execution_count": null,
      "id": "2379ea72",
      "metadata": {
        "id": "2379ea72"
      },
      "outputs": [],
      "source": [
        "# Batch properties and preparation\n",
        "BATCH_SIZE = 64\n",
        "dataset = EngSpaDataset(eng_sentences, spa_sentences, eng_word2idx, spa_word2idx)\n",
        "\n",
        "# Wrapping it in a Dataloader for ease of use\n",
        "dataloader = DataLoader(dataset, batch_size=BATCH_SIZE, shuffle=True, collate_fn=collate_fn)"
      ]
    },
    {
      "cell_type": "code",
      "execution_count": null,
      "id": "e08eef6a",
      "metadata": {
        "id": "e08eef6a"
      },
      "outputs": [],
      "source": [
        "# Instantiates the model\n",
        "model = Transformer(d_model=512, num_heads=8, d_ff=2048, num_layers=6,\n",
        "                    input_vocab_size=eng_vocab_size, target_vocab_size=spa_vocab_size,\n",
        "                    max_len=MAX_SEQ_LEN, dropout=0.1)"
      ]
    },
    {
      "cell_type": "code",
      "execution_count": null,
      "id": "a1181a12",
      "metadata": {
        "id": "a1181a12"
      },
      "outputs": [],
      "source": [
        "# GPU if possible\n",
        "model = model.to(device)\n",
        "\n",
        "# Cross Entropy Loss\n",
        "loss_function = nn.CrossEntropyLoss(ignore_index=0)\n",
        "\n",
        "# Standard Adam optimizer\n",
        "optimiser = optim.Adam(model.parameters(), lr=0.0001)\n"
      ]
    },
    {
      "cell_type": "code",
      "execution_count": null,
      "id": "14e265e9",
      "metadata": {
        "colab": {
          "base_uri": "https://localhost:8080/"
        },
        "id": "14e265e9",
        "outputId": "5e934c3c-48f6-4729-c4c7-951af1a36c9b"
      },
      "outputs": [
        {
          "output_type": "stream",
          "name": "stdout",
          "text": [
            "Epoch: 0/10, Loss: 3.5955\n",
            "Epoch: 1/10, Loss: 2.2003\n",
            "Epoch: 2/10, Loss: 1.7018\n",
            "Epoch: 3/10, Loss: 1.3758\n",
            "Epoch: 4/10, Loss: 1.1259\n",
            "Epoch: 5/10, Loss: 0.9234\n",
            "Epoch: 6/10, Loss: 0.7597\n",
            "Epoch: 7/10, Loss: 0.6304\n",
            "Epoch: 8/10, Loss: 0.5364\n",
            "Epoch: 9/10, Loss: 0.4671\n"
          ]
        }
      ],
      "source": [
        "# Train the model for 10 epochs\n",
        "train(model, dataloader, loss_function, optimiser, epochs = 10)"
      ]
    },
    {
      "cell_type": "markdown",
      "source": [
        "### Evaluation\n",
        "\n",
        "We create a set of utility functions to test our translation capabilities."
      ],
      "metadata": {
        "id": "3riLR9xUrSPd"
      },
      "id": "3riLR9xUrSPd"
    },
    {
      "cell_type": "code",
      "execution_count": null,
      "id": "50740746",
      "metadata": {
        "code_folding": [],
        "id": "50740746"
      },
      "outputs": [],
      "source": [
        "def sentence_to_indices(sentence, word2idx):\n",
        "    return [word2idx.get(word, word2idx['<unk>']) for word in sentence.split()]\n",
        "\n",
        "def indices_to_sentence(indices, idx2word):\n",
        "    return ' '.join([idx2word[idx] for idx in indices if idx in idx2word and idx2word[idx] != '<pad>'])\n",
        "\n",
        "def translate_sentence(model, sentence, eng_word2idx, spa_idx2word, max_len=MAX_SEQ_LEN, device='cpu'):\n",
        "    model.eval()\n",
        "    sentence = preprocess_sentence(sentence)\n",
        "    input_indices = sentence_to_indices(sentence, eng_word2idx)\n",
        "    input_tensor = torch.tensor(input_indices).unsqueeze(0).to(device)\n",
        "\n",
        "    # Initialize the target tensor with <sos> token\n",
        "    tgt_indices = [spa_word2idx['<sos>']]\n",
        "    tgt_tensor = torch.tensor(tgt_indices).unsqueeze(0).to(device)\n",
        "\n",
        "    with torch.no_grad():\n",
        "        for _ in range(max_len):\n",
        "            output = model(input_tensor, tgt_tensor)\n",
        "            output = output.squeeze(0)\n",
        "            next_token = output.argmax(dim=-1)[-1].item()\n",
        "            tgt_indices.append(next_token)\n",
        "            tgt_tensor = torch.tensor(tgt_indices).unsqueeze(0).to(device)\n",
        "            if next_token == spa_word2idx['<eos>']:\n",
        "                break\n",
        "\n",
        "    return indices_to_sentence(tgt_indices, spa_idx2word)"
      ]
    },
    {
      "cell_type": "code",
      "execution_count": null,
      "id": "c2c0db72",
      "metadata": {
        "code_folding": [
          15
        ],
        "colab": {
          "base_uri": "https://localhost:8080/"
        },
        "id": "c2c0db72",
        "outputId": "8a681e36-6396-4e74-c7e8-c74c60553068"
      },
      "outputs": [
        {
          "output_type": "stream",
          "name": "stdout",
          "text": [
            "Input sentence: Hello, how are you?\n",
            "Traducción: <sos> hola como estas <eos>\n",
            "\n",
            "Input sentence: I am learning artificial intelligence.\n",
            "Traducción: <sos> estoy aprendiendo inteligencia artificial <eos>\n",
            "\n",
            "Input sentence: Artificial intelligence is great.\n",
            "Traducción: <sos> la inteligencia artificial es buena <eos>\n",
            "\n",
            "Input sentence: Good night!\n",
            "Traducción: <sos> buenas noches <eos>\n",
            "\n",
            "Input sentence: When is dinner time?\n",
            "Traducción: <sos> cuando es la hora de cenar <eos>\n",
            "\n",
            "Input sentence: My cat's name is Blondie\n",
            "Traducción: <sos> el nombre de mi gato es masculino <eos>\n",
            "\n",
            "Input sentence: The high school opera was awesome\n",
            "Traducción: <sos> la opera fue bien secundaria <eos>\n",
            "\n",
            "Input sentence: I study in the morning\n",
            "Traducción: <sos> estudio por la ma ana <eos>\n",
            "\n",
            "Input sentence: He walks through the mall on Satudays\n",
            "Traducción: <sos> el se da a traves del centro comercial <eos>\n",
            "\n",
            "Input sentence: Deep Learning is very useful\n",
            "Traducción: <sos> aprender es muy util <eos>\n",
            "\n",
            "Input sentence: Winter is my favorite season\n",
            "Traducción: <sos> el invierno es mi estacion favorita <eos>\n",
            "\n",
            "Input sentence: I enjoy water more than sweet beverages\n",
            "Traducción: <sos> me gusta mas agua que el agua dulce <eos>\n",
            "\n",
            "Input sentence: I play basketball on Sundays\n",
            "Traducción: <sos> juego al baloncesto los domingos <eos>\n",
            "\n",
            "Input sentence: The news don't always show local events\n",
            "Traducción: <sos> las noticias locales no siempre locales <eos>\n",
            "\n",
            "Input sentence: Cellphones distract us from reading\n",
            "Traducción: <sos> leer de telefono nos ense anza a leer <eos>\n",
            "\n"
          ]
        }
      ],
      "source": [
        "def evaluate_translations(model, sentences, eng_word2idx, spa_idx2word, max_len=MAX_SEQ_LEN, device='cpu'):\n",
        "    for sentence in sentences:\n",
        "        translation = translate_sentence(model, sentence, eng_word2idx, spa_idx2word, max_len, device)\n",
        "        print(f'Input sentence: {sentence}')\n",
        "        print(f'Traducción: {translation}')\n",
        "        print()\n",
        "\n",
        "# Example sentences to test the translator\n",
        "test_sentences = [\n",
        "    \"Hello, how are you?\",\n",
        "    \"I am learning artificial intelligence.\",\n",
        "    \"Artificial intelligence is great.\",\n",
        "    \"Good night!\",\n",
        "    \"When is dinner time?\",\n",
        "    \"My cat's name is Blondie\",\n",
        "    \"The high school opera was awesome\",\n",
        "    \"I study in the morning\",\n",
        "    \"He walks through the mall on Satudays\",\n",
        "    \"Deep Learning is very useful\",\n",
        "    \"Winter is my favorite season\",\n",
        "    \"I enjoy water more than sweet beverages\",\n",
        "    \"I play basketball on Sundays\",\n",
        "    \"The news don't always show local events\",\n",
        "    \"Cellphones distract us from reading\"\n",
        "]\n",
        "\n",
        "# Assuming the model is trained and loaded\n",
        "# Set the device to 'cpu' or 'cuda' as needed\n",
        "device = torch.device(\"cuda\" if torch.cuda.is_available() else \"cpu\")\n",
        "model = model.to(device)\n",
        "\n",
        "# Evaluate translations\n",
        "evaluate_translations(model, test_sentences, eng_word2idx, spa_idx2word, max_len=MAX_SEQ_LEN, device=device)\n"
      ]
    },
    {
      "cell_type": "markdown",
      "source": [
        "#### Conclusions\n",
        "\n",
        "1. Training a robust transformer is computationally expensive. For this simple example, a A100 GPU was used in a Google Cloud setting, taking around 45 [min] to complete 10 epochs of training.\n",
        "\n",
        "2. The data required to build a robust transformer for translation purposes must be large. The reason we conclude this is because it is helpful for the model to see each word being used in different situations and paired with as many words as possible for out model to accurately capture the uses and relationships with other words.\n",
        "\n",
        "3. One important observation we have for this type of model is that a confidence score is not easily retrieved from this type of architecture. In contrast to a classification model where the output class is predicted with a probability score this architecture predict the next \"most likely\" token for each one of the tokens produced, therefore extracting a single \"confidence\" value is not obtained in a straightforward fashion."
      ],
      "metadata": {
        "id": "yfG_9qh9tUJM"
      },
      "id": "yfG_9qh9tUJM"
    },
    {
      "cell_type": "code",
      "execution_count": null,
      "id": "4ceefe95",
      "metadata": {
        "id": "4ceefe95"
      },
      "outputs": [],
      "source": []
    }
  ],
  "metadata": {
    "kernelspec": {
      "display_name": "Python 3",
      "name": "python3"
    },
    "language_info": {
      "codemirror_mode": {
        "name": "ipython",
        "version": 3
      },
      "file_extension": ".py",
      "mimetype": "text/x-python",
      "name": "python",
      "nbconvert_exporter": "python",
      "pygments_lexer": "ipython3",
      "version": "3.12.7"
    },
    "varInspector": {
      "cols": {
        "lenName": 16,
        "lenType": 16,
        "lenVar": 40
      },
      "kernels_config": {
        "python": {
          "delete_cmd_postfix": "",
          "delete_cmd_prefix": "del ",
          "library": "var_list.py",
          "varRefreshCmd": "print(var_dic_list())"
        },
        "r": {
          "delete_cmd_postfix": ") ",
          "delete_cmd_prefix": "rm(",
          "library": "var_list.r",
          "varRefreshCmd": "cat(var_dic_list()) "
        }
      },
      "types_to_exclude": [
        "module",
        "function",
        "builtin_function_or_method",
        "instance",
        "_Feature"
      ],
      "window_display": false
    },
    "colab": {
      "provenance": [],
      "machine_shape": "hm",
      "gpuType": "A100"
    },
    "accelerator": "GPU"
  },
  "nbformat": 4,
  "nbformat_minor": 5
}