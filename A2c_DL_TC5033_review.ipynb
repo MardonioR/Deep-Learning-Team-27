{
  "cells": [
    {
      "cell_type": "markdown",
      "metadata": {
        "id": "iBsRSVq-oi18"
      },
      "source": [
        "# TC 5033\n",
        "## Deep Learning\n",
        "## Transfer Learning\n",
        "\n",
        "<br>\n",
        "\n",
        "#### Activity 2c: Exploring Transfer Learning with CIFAR-10\n",
        "<br>\n",
        "\n",
        "- Objective:\n",
        "\n",
        "    In this activity, you'll study the concept of Transfer Learning, a powerful technique to improve the performance of your models by leveraging pre-trained architectures. The provided notebook offers a complete solution using a specific pre-trained model on the CIFAR-10 dataset. Your task is to extend this by trying out two other pre-trained models.\n",
        "    \n",
        "- Instructions:\n",
        "\n",
        "    This activity should be submitted in the same format as previous activities. Remember to include the names of all team members in a markdown cell at the beginning of the notebook. The grade obtained in this notebook will be averaged with that of Activity 2b, for the grade of Activity 2.    \n",
        "\n",
        "    Study the Provided Code: The provided notebook has a complete Transfer Learning solution using a particular pre-trained model. Make sure you understand the flow of the code and the role of each component.\n",
        "\n",
        "    Select Two Other Pre-trained Models: Choose two different pre-trained models available in PyTorch's model zoo.\n",
        "\n",
        "    Apply Transfer Learning: Add cells to implement Transfer Learning using the two models you've chosen. Train these models on the CIFAR-10 dataset.\n",
        "\n",
        "    Evaluation: After training, evaluate your models' performance. Compare the results with the provided solution and try to interpret why there might be differences.\n",
        "\n",
        "    Documentation: In a markdown cell, summarize your findings. Include any challenges you faced, how you overcame them, and any interesting insights you gained from comparing the different pre-trained models.\n",
        "\n",
        "- Note:\n",
        "\n",
        "    Although the provided code serves as a guide, you're encouraged to implement the new solutions on your own. The goal is to reinforce your understanding of Transfer Learning and how to apply it effectively.\n",
        "\n",
        "\n"
      ]
    },
    {
      "cell_type": "code",
      "execution_count": 2,
      "metadata": {
        "id": "iy7sdM80oi2A"
      },
      "outputs": [],
      "source": [
        "import numpy as np\n",
        "import torch\n",
        "import torch.nn as nn\n",
        "import torch.nn.functional as F\n",
        "\n",
        "from torch.utils.data import DataLoader\n",
        "from torch.utils.data import sampler\n",
        "import torchvision.datasets as datasets\n",
        "import torchvision.transforms as T\n",
        "from torchvision import models"
      ]
    },
    {
      "cell_type": "code",
      "source": [
        "from google.colab import drive\n",
        "drive.mount('/content/drive')"
      ],
      "metadata": {
        "colab": {
          "base_uri": "https://localhost:8080/"
        },
        "id": "kR9JCfm-qXkE",
        "outputId": "706fb18a-0685-417e-cded-e3b309f7500a"
      },
      "execution_count": 2,
      "outputs": [
        {
          "output_type": "stream",
          "name": "stdout",
          "text": [
            "Mounted at /content/drive\n"
          ]
        }
      ]
    },
    {
      "cell_type": "code",
      "execution_count": 3,
      "metadata": {
        "id": "End11E20oi2B"
      },
      "outputs": [],
      "source": [
        "import matplotlib.pyplot as plt"
      ]
    },
    {
      "cell_type": "markdown",
      "metadata": {
        "id": "oWs-zOwDoi2C"
      },
      "source": [
        "### Descargar sets de datos"
      ]
    },
    {
      "cell_type": "code",
      "execution_count": 3,
      "metadata": {
        "colab": {
          "base_uri": "https://localhost:8080/"
        },
        "id": "Rlpkt-Wkoi2C",
        "outputId": "3b363ef8-443d-401e-91fa-1355f3536a4a"
      },
      "outputs": [
        {
          "output_type": "stream",
          "name": "stdout",
          "text": [
            "Downloading https://www.cs.toronto.edu/~kriz/cifar-10-python.tar.gz to /home/pepe/Documents/github_repos/datasets/cifar-10-batches-py/cifar-10-python.tar.gz\n"
          ]
        },
        {
          "output_type": "stream",
          "name": "stderr",
          "text": [
            "100%|██████████| 170498071/170498071 [00:01<00:00, 87257391.12it/s]\n"
          ]
        },
        {
          "output_type": "stream",
          "name": "stdout",
          "text": [
            "Extracting /home/pepe/Documents/github_repos/datasets/cifar-10-batches-py/cifar-10-python.tar.gz to /home/pepe/Documents/github_repos/datasets/cifar-10-batches-py\n",
            "Files already downloaded and verified\n",
            "Files already downloaded and verified\n"
          ]
        }
      ],
      "source": [
        "# DATA_PATH = '/media/pepe/DataUbuntu/Databases/cifar-10/cifar-10-batches-py'\n",
        "DATA_PATH = '/home/pepe/Documents/github_repos/datasets/cifar-10-batches-py'\n",
        "NUM_TRAIN = 45000\n",
        "MINIBATCH_SIZE = 64\n",
        "transform_imagenet = T.Compose([\n",
        "                T.Resize(224),\n",
        "                T.ToTensor(),\n",
        "                T.Normalize((0.485, 0.456, 0.406), (0.229, 0.224, 0.225))\n",
        "            ])\n",
        "\n",
        "transform_cifar = T.Compose([\n",
        "                T.ToTensor(),\n",
        "                T.Normalize([0.491, 0.482, 0.447], [0.247, 0.243, 0.261])\n",
        "            ])\n",
        "\n",
        "# Training set loader\n",
        "cifar10_train = datasets.CIFAR10(DATA_PATH, train=True, download=True,\n",
        "                             transform=transform_imagenet)\n",
        "train_loader = DataLoader(cifar10_train, batch_size=MINIBATCH_SIZE,\n",
        "                          sampler=sampler.SubsetRandomSampler(range(NUM_TRAIN)))\n",
        "\n",
        "# Validation set loader\n",
        "cifar10_val = datasets.CIFAR10(DATA_PATH, train=True, download=True,\n",
        "                           transform=transform_imagenet)\n",
        "val_loader = DataLoader(cifar10_val, batch_size=MINIBATCH_SIZE,\n",
        "                        sampler=sampler.SubsetRandomSampler(range(NUM_TRAIN, len(cifar10_val))))\n",
        "\n",
        "# Testing set loader\n",
        "cifar10_test = datasets.CIFAR10(DATA_PATH, train=False, download=True,\n",
        "                            transform=transform_imagenet)\n",
        "test_loader = DataLoader(cifar10_test, batch_size=MINIBATCH_SIZE)"
      ]
    },
    {
      "cell_type": "code",
      "execution_count": 5,
      "metadata": {
        "colab": {
          "base_uri": "https://localhost:8080/"
        },
        "id": "DjKdZLLCoi2C",
        "outputId": "bf03a5e0-eaf5-49ca-c3f5-28e494bd9c93"
      },
      "outputs": [
        {
          "output_type": "stream",
          "name": "stdout",
          "text": [
            "0 torch.Size([64, 3, 224, 224]) torch.Size([64])\n",
            "1 torch.Size([64, 3, 224, 224]) torch.Size([64])\n",
            "2 torch.Size([64, 3, 224, 224]) torch.Size([64])\n",
            "3 torch.Size([64, 3, 224, 224]) torch.Size([64])\n",
            "4 torch.Size([64, 3, 224, 224]) torch.Size([64])\n",
            "5 torch.Size([64, 3, 224, 224]) torch.Size([64])\n",
            "6 torch.Size([64, 3, 224, 224]) torch.Size([64])\n",
            "7 torch.Size([64, 3, 224, 224]) torch.Size([64])\n",
            "8 torch.Size([64, 3, 224, 224]) torch.Size([64])\n",
            "9 torch.Size([64, 3, 224, 224]) torch.Size([64])\n",
            "10 torch.Size([64, 3, 224, 224]) torch.Size([64])\n",
            "11 torch.Size([64, 3, 224, 224]) torch.Size([64])\n",
            "12 torch.Size([64, 3, 224, 224]) torch.Size([64])\n",
            "13 torch.Size([64, 3, 224, 224]) torch.Size([64])\n",
            "14 torch.Size([64, 3, 224, 224]) torch.Size([64])\n",
            "15 torch.Size([64, 3, 224, 224]) torch.Size([64])\n",
            "16 torch.Size([64, 3, 224, 224]) torch.Size([64])\n",
            "17 torch.Size([64, 3, 224, 224]) torch.Size([64])\n",
            "18 torch.Size([64, 3, 224, 224]) torch.Size([64])\n",
            "19 torch.Size([64, 3, 224, 224]) torch.Size([64])\n",
            "20 torch.Size([64, 3, 224, 224]) torch.Size([64])\n",
            "21 torch.Size([64, 3, 224, 224]) torch.Size([64])\n",
            "22 torch.Size([64, 3, 224, 224]) torch.Size([64])\n",
            "23 torch.Size([64, 3, 224, 224]) torch.Size([64])\n",
            "24 torch.Size([64, 3, 224, 224]) torch.Size([64])\n",
            "25 torch.Size([64, 3, 224, 224]) torch.Size([64])\n",
            "26 torch.Size([64, 3, 224, 224]) torch.Size([64])\n",
            "27 torch.Size([64, 3, 224, 224]) torch.Size([64])\n",
            "28 torch.Size([64, 3, 224, 224]) torch.Size([64])\n",
            "29 torch.Size([64, 3, 224, 224]) torch.Size([64])\n",
            "30 torch.Size([64, 3, 224, 224]) torch.Size([64])\n",
            "31 torch.Size([64, 3, 224, 224]) torch.Size([64])\n",
            "32 torch.Size([64, 3, 224, 224]) torch.Size([64])\n",
            "33 torch.Size([64, 3, 224, 224]) torch.Size([64])\n",
            "34 torch.Size([64, 3, 224, 224]) torch.Size([64])\n",
            "35 torch.Size([64, 3, 224, 224]) torch.Size([64])\n",
            "36 torch.Size([64, 3, 224, 224]) torch.Size([64])\n",
            "37 torch.Size([64, 3, 224, 224]) torch.Size([64])\n",
            "38 torch.Size([64, 3, 224, 224]) torch.Size([64])\n",
            "39 torch.Size([64, 3, 224, 224]) torch.Size([64])\n",
            "40 torch.Size([64, 3, 224, 224]) torch.Size([64])\n",
            "41 torch.Size([64, 3, 224, 224]) torch.Size([64])\n",
            "42 torch.Size([64, 3, 224, 224]) torch.Size([64])\n",
            "43 torch.Size([64, 3, 224, 224]) torch.Size([64])\n",
            "44 torch.Size([64, 3, 224, 224]) torch.Size([64])\n",
            "45 torch.Size([64, 3, 224, 224]) torch.Size([64])\n",
            "46 torch.Size([64, 3, 224, 224]) torch.Size([64])\n",
            "47 torch.Size([64, 3, 224, 224]) torch.Size([64])\n",
            "48 torch.Size([64, 3, 224, 224]) torch.Size([64])\n",
            "49 torch.Size([64, 3, 224, 224]) torch.Size([64])\n",
            "50 torch.Size([64, 3, 224, 224]) torch.Size([64])\n",
            "51 torch.Size([64, 3, 224, 224]) torch.Size([64])\n",
            "52 torch.Size([64, 3, 224, 224]) torch.Size([64])\n",
            "53 torch.Size([64, 3, 224, 224]) torch.Size([64])\n",
            "54 torch.Size([64, 3, 224, 224]) torch.Size([64])\n",
            "55 torch.Size([64, 3, 224, 224]) torch.Size([64])\n",
            "56 torch.Size([64, 3, 224, 224]) torch.Size([64])\n",
            "57 torch.Size([64, 3, 224, 224]) torch.Size([64])\n",
            "58 torch.Size([64, 3, 224, 224]) torch.Size([64])\n",
            "59 torch.Size([64, 3, 224, 224]) torch.Size([64])\n",
            "60 torch.Size([64, 3, 224, 224]) torch.Size([64])\n",
            "61 torch.Size([64, 3, 224, 224]) torch.Size([64])\n",
            "62 torch.Size([64, 3, 224, 224]) torch.Size([64])\n",
            "63 torch.Size([64, 3, 224, 224]) torch.Size([64])\n",
            "64 torch.Size([64, 3, 224, 224]) torch.Size([64])\n",
            "65 torch.Size([64, 3, 224, 224]) torch.Size([64])\n",
            "66 torch.Size([64, 3, 224, 224]) torch.Size([64])\n",
            "67 torch.Size([64, 3, 224, 224]) torch.Size([64])\n",
            "68 torch.Size([64, 3, 224, 224]) torch.Size([64])\n",
            "69 torch.Size([64, 3, 224, 224]) torch.Size([64])\n",
            "70 torch.Size([64, 3, 224, 224]) torch.Size([64])\n",
            "71 torch.Size([64, 3, 224, 224]) torch.Size([64])\n",
            "72 torch.Size([64, 3, 224, 224]) torch.Size([64])\n",
            "73 torch.Size([64, 3, 224, 224]) torch.Size([64])\n",
            "74 torch.Size([64, 3, 224, 224]) torch.Size([64])\n",
            "75 torch.Size([64, 3, 224, 224]) torch.Size([64])\n",
            "76 torch.Size([64, 3, 224, 224]) torch.Size([64])\n",
            "77 torch.Size([64, 3, 224, 224]) torch.Size([64])\n",
            "78 torch.Size([8, 3, 224, 224]) torch.Size([8])\n"
          ]
        }
      ],
      "source": [
        "for i, (x, y) in enumerate(val_loader):\n",
        "    print(i, x.shape, y.shape)"
      ]
    },
    {
      "cell_type": "code",
      "execution_count": 5,
      "metadata": {
        "id": "qZf-x1_toi2D"
      },
      "outputs": [],
      "source": []
    },
    {
      "cell_type": "markdown",
      "metadata": {
        "id": "8W2LKaMKoi2D"
      },
      "source": [
        "### Usar GPU"
      ]
    },
    {
      "cell_type": "code",
      "execution_count": 4,
      "metadata": {
        "colab": {
          "base_uri": "https://localhost:8080/"
        },
        "id": "VvnMHW7aoi2D",
        "outputId": "50de1a6c-301a-4032-93a1-6b5ab45bd75b"
      },
      "outputs": [
        {
          "output_type": "stream",
          "name": "stdout",
          "text": [
            "cuda\n"
          ]
        }
      ],
      "source": [
        "if torch.cuda.is_available():\n",
        "    device = torch.device('cuda')\n",
        "else:\n",
        "    device = torch.device('cpu')\n",
        "\n",
        "print(device)"
      ]
    },
    {
      "cell_type": "markdown",
      "metadata": {
        "id": "qmIHMJ37oi2D"
      },
      "source": [
        "### Mostrar imágenes"
      ]
    },
    {
      "cell_type": "code",
      "execution_count": 6,
      "metadata": {
        "colab": {
          "base_uri": "https://localhost:8080/",
          "height": 423
        },
        "id": "9ayTmIOaoi2E",
        "outputId": "bda83e81-d69f-4cd0-f441-f428a020fe0d"
      },
      "outputs": [
        {
          "output_type": "stream",
          "name": "stdout",
          "text": [
            "La imagen muestreada representa un: Car\n"
          ]
        },
        {
          "output_type": "display_data",
          "data": {
            "text/plain": [
              "<Figure size 640x480 with 1 Axes>"
            ],
            "image/png": "[encoded data removed]"
          },
          "metadata": {}
        }
      ],
      "source": [
        "classes = ['Plane', 'Car', 'Bird', 'Cat', 'Deer','Dog', 'Frog', 'Horse', 'Ship', 'Truck']\n",
        "\n",
        "def plot_figure(image):\n",
        "    plt.imshow(image.permute(1,2,0))\n",
        "    plt.axis('off')\n",
        "    plt.show()\n",
        "\n",
        "rnd_sample_idx = np.random.randint(len(test_loader))\n",
        "print(f'La imagen muestreada representa un: {classes[test_loader.dataset[rnd_sample_idx][1]]}')\n",
        "image = test_loader.dataset[rnd_sample_idx][0]\n",
        "image = (image - image.min()) / (image.max() -image.min() )\n",
        "plot_figure(image)"
      ]
    },
    {
      "cell_type": "markdown",
      "metadata": {
        "id": "Jo5H0cCKoi2E"
      },
      "source": [
        "### Calcular Accuracy"
      ]
    },
    {
      "cell_type": "code",
      "execution_count": 13,
      "metadata": {
        "id": "mUDNLlpIoi2E"
      },
      "outputs": [],
      "source": [
        "def accuracy(model, loader):\n",
        "    num_correct = 0\n",
        "    num_total = 0\n",
        "    model.eval()\n",
        "    model = model.to(device=device)\n",
        "    with torch.no_grad():\n",
        "        for (xi, yi) in loader:\n",
        "            xi = xi.to(device=device, dtype = torch.float32)\n",
        "            yi = yi.to(device=device, dtype = torch.long)\n",
        "            scores = model(xi) # mb_size, 10\n",
        "            _, pred = scores.max(dim=1) #pred shape (mb_size )\n",
        "            num_correct += (pred == yi).sum() # pred shape (mb_size), yi shape (mb_size, 1)\n",
        "            num_total += pred.size(0)\n",
        "        return float(num_correct)/num_total\n",
        "\n"
      ]
    },
    {
      "cell_type": "markdown",
      "metadata": {
        "id": "OeBRspyaoi2E"
      },
      "source": [
        "### Cargar modelo pre-cargado"
      ]
    },
    {
      "cell_type": "code",
      "execution_count": 5,
      "metadata": {
        "colab": {
          "base_uri": "https://localhost:8080/"
        },
        "id": "IAn78zGHoi2F",
        "outputId": "e2da12bb-d15f-4896-ddea-3396d4879f99"
      },
      "outputs": [
        {
          "output_type": "stream",
          "name": "stderr",
          "text": [
            "/usr/local/lib/python3.10/dist-packages/torchvision/models/_utils.py:208: UserWarning: The parameter 'pretrained' is deprecated since 0.13 and may be removed in the future, please use 'weights' instead.\n",
            "  warnings.warn(\n",
            "/usr/local/lib/python3.10/dist-packages/torchvision/models/_utils.py:223: UserWarning: Arguments other than a weight enum or `None` for 'weights' are deprecated since 0.13 and may be removed in the future. The current behavior is equivalent to passing `weights=ResNet18_Weights.IMAGENET1K_V1`. You can also use `weights=ResNet18_Weights.DEFAULT` to get the most up-to-date weights.\n",
            "  warnings.warn(msg)\n",
            "Downloading: \"https://download.pytorch.org/models/resnet18-f37072fd.pth\" to /root/.cache/torch/hub/checkpoints/resnet18-f37072fd.pth\n",
            "100%|██████████| 44.7M/44.7M [00:00<00:00, 170MB/s]\n"
          ]
        }
      ],
      "source": [
        "model_resnet18 = models.resnet18(pretrained=True)"
      ]
    },
    {
      "cell_type": "markdown",
      "metadata": {
        "id": "ukY9cHgXoi2F"
      },
      "source": [
        "#### Exploremos el modelo"
      ]
    },
    {
      "cell_type": "code",
      "execution_count": 9,
      "metadata": {
        "scrolled": true,
        "colab": {
          "base_uri": "https://localhost:8080/"
        },
        "id": "lmRojWDqoi2F",
        "outputId": "0aa1240d-7dd5-442e-ded2-040659f314e0"
      },
      "outputs": [
        {
          "output_type": "stream",
          "name": "stdout",
          "text": [
            "0 torch.Size([64, 3, 7, 7]) True\n",
            "1 torch.Size([64]) True\n",
            "2 torch.Size([64]) True\n",
            "3 torch.Size([64, 64, 3, 3]) True\n",
            "4 torch.Size([64]) True\n",
            "5 torch.Size([64]) True\n",
            "6 torch.Size([64, 64, 3, 3]) True\n",
            "7 torch.Size([64]) True\n",
            "8 torch.Size([64]) True\n",
            "9 torch.Size([64, 64, 3, 3]) True\n",
            "10 torch.Size([64]) True\n",
            "11 torch.Size([64]) True\n",
            "12 torch.Size([64, 64, 3, 3]) True\n",
            "13 torch.Size([64]) True\n",
            "14 torch.Size([64]) True\n",
            "15 torch.Size([128, 64, 3, 3]) True\n",
            "16 torch.Size([128]) True\n",
            "17 torch.Size([128]) True\n",
            "18 torch.Size([128, 128, 3, 3]) True\n",
            "19 torch.Size([128]) True\n",
            "20 torch.Size([128]) True\n",
            "21 torch.Size([128, 64, 1, 1]) True\n",
            "22 torch.Size([128]) True\n",
            "23 torch.Size([128]) True\n",
            "24 torch.Size([128, 128, 3, 3]) True\n",
            "25 torch.Size([128]) True\n",
            "26 torch.Size([128]) True\n",
            "27 torch.Size([128, 128, 3, 3]) True\n",
            "28 torch.Size([128]) True\n",
            "29 torch.Size([128]) True\n",
            "30 torch.Size([256, 128, 3, 3]) True\n",
            "31 torch.Size([256]) True\n",
            "32 torch.Size([256]) True\n",
            "33 torch.Size([256, 256, 3, 3]) True\n",
            "34 torch.Size([256]) True\n",
            "35 torch.Size([256]) True\n",
            "36 torch.Size([256, 128, 1, 1]) True\n",
            "37 torch.Size([256]) True\n",
            "38 torch.Size([256]) True\n",
            "39 torch.Size([256, 256, 3, 3]) True\n",
            "40 torch.Size([256]) True\n",
            "41 torch.Size([256]) True\n",
            "42 torch.Size([256, 256, 3, 3]) True\n",
            "43 torch.Size([256]) True\n",
            "44 torch.Size([256]) True\n",
            "45 torch.Size([512, 256, 3, 3]) True\n",
            "46 torch.Size([512]) True\n",
            "47 torch.Size([512]) True\n",
            "48 torch.Size([512, 512, 3, 3]) True\n",
            "49 torch.Size([512]) True\n",
            "50 torch.Size([512]) True\n",
            "51 torch.Size([512, 256, 1, 1]) True\n",
            "52 torch.Size([512]) True\n",
            "53 torch.Size([512]) True\n",
            "54 torch.Size([512, 512, 3, 3]) True\n",
            "55 torch.Size([512]) True\n",
            "56 torch.Size([512]) True\n",
            "57 torch.Size([512, 512, 3, 3]) True\n",
            "58 torch.Size([512]) True\n",
            "59 torch.Size([512]) True\n",
            "60 torch.Size([1000, 512]) True\n",
            "61 torch.Size([1000]) True\n"
          ]
        }
      ],
      "source": [
        "for i, w in enumerate(model_resnet18.parameters()):\n",
        "    print(i, w.shape, w.requires_grad)"
      ]
    },
    {
      "cell_type": "code",
      "execution_count": 11,
      "metadata": {
        "scrolled": true,
        "colab": {
          "base_uri": "https://localhost:8080/"
        },
        "id": "LPLu0dBboi2F",
        "outputId": "7bc49b82-1d47-4e18-d694-7242b24f2279"
      },
      "outputs": [
        {
          "output_type": "execute_result",
          "data": {
            "text/plain": [
              "ResNet(\n",
              "  (conv1): Conv2d(3, 64, kernel_size=(7, 7), stride=(2, 2), padding=(3, 3), bias=False)\n",
              "  (bn1): BatchNorm2d(64, eps=1e-05, momentum=0.1, affine=True, track_running_stats=True)\n",
              "  (relu): ReLU(inplace=True)\n",
              "  (maxpool): MaxPool2d(kernel_size=3, stride=2, padding=1, dilation=1, ceil_mode=False)\n",
              "  (layer1): Sequential(\n",
              "    (0): BasicBlock(\n",
              "      (conv1): Conv2d(64, 64, kernel_size=(3, 3), stride=(1, 1), padding=(1, 1), bias=False)\n",
              "      (bn1): BatchNorm2d(64, eps=1e-05, momentum=0.1, affine=True, track_running_stats=True)\n",
              "      (relu): ReLU(inplace=True)\n",
              "      (conv2): Conv2d(64, 64, kernel_size=(3, 3), stride=(1, 1), padding=(1, 1), bias=False)\n",
              "      (bn2): BatchNorm2d(64, eps=1e-05, momentum=0.1, affine=True, track_running_stats=True)\n",
              "    )\n",
              "    (1): BasicBlock(\n",
              "      (conv1): Conv2d(64, 64, kernel_size=(3, 3), stride=(1, 1), padding=(1, 1), bias=False)\n",
              "      (bn1): BatchNorm2d(64, eps=1e-05, momentum=0.1, affine=True, track_running_stats=True)\n",
              "      (relu): ReLU(inplace=True)\n",
              "      (conv2): Conv2d(64, 64, kernel_size=(3, 3), stride=(1, 1), padding=(1, 1), bias=False)\n",
              "      (bn2): BatchNorm2d(64, eps=1e-05, momentum=0.1, affine=True, track_running_stats=True)\n",
              "    )\n",
              "  )\n",
              "  (layer2): Sequential(\n",
              "    (0): BasicBlock(\n",
              "      (conv1): Conv2d(64, 128, kernel_size=(3, 3), stride=(2, 2), padding=(1, 1), bias=False)\n",
              "      (bn1): BatchNorm2d(128, eps=1e-05, momentum=0.1, affine=True, track_running_stats=True)\n",
              "      (relu): ReLU(inplace=True)\n",
              "      (conv2): Conv2d(128, 128, kernel_size=(3, 3), stride=(1, 1), padding=(1, 1), bias=False)\n",
              "      (bn2): BatchNorm2d(128, eps=1e-05, momentum=0.1, affine=True, track_running_stats=True)\n",
              "      (downsample): Sequential(\n",
              "        (0): Conv2d(64, 128, kernel_size=(1, 1), stride=(2, 2), bias=False)\n",
              "        (1): BatchNorm2d(128, eps=1e-05, momentum=0.1, affine=True, track_running_stats=True)\n",
              "      )\n",
              "    )\n",
              "    (1): BasicBlock(\n",
              "      (conv1): Conv2d(128, 128, kernel_size=(3, 3), stride=(1, 1), padding=(1, 1), bias=False)\n",
              "      (bn1): BatchNorm2d(128, eps=1e-05, momentum=0.1, affine=True, track_running_stats=True)\n",
              "      (relu): ReLU(inplace=True)\n",
              "      (conv2): Conv2d(128, 128, kernel_size=(3, 3), stride=(1, 1), padding=(1, 1), bias=False)\n",
              "      (bn2): BatchNorm2d(128, eps=1e-05, momentum=0.1, affine=True, track_running_stats=True)\n",
              "    )\n",
              "  )\n",
              "  (layer3): Sequential(\n",
              "    (0): BasicBlock(\n",
              "      (conv1): Conv2d(128, 256, kernel_size=(3, 3), stride=(2, 2), padding=(1, 1), bias=False)\n",
              "      (bn1): BatchNorm2d(256, eps=1e-05, momentum=0.1, affine=True, track_running_stats=True)\n",
              "      (relu): ReLU(inplace=True)\n",
              "      (conv2): Conv2d(256, 256, kernel_size=(3, 3), stride=(1, 1), padding=(1, 1), bias=False)\n",
              "      (bn2): BatchNorm2d(256, eps=1e-05, momentum=0.1, affine=True, track_running_stats=True)\n",
              "      (downsample): Sequential(\n",
              "        (0): Conv2d(128, 256, kernel_size=(1, 1), stride=(2, 2), bias=False)\n",
              "        (1): BatchNorm2d(256, eps=1e-05, momentum=0.1, affine=True, track_running_stats=True)\n",
              "      )\n",
              "    )\n",
              "    (1): BasicBlock(\n",
              "      (conv1): Conv2d(256, 256, kernel_size=(3, 3), stride=(1, 1), padding=(1, 1), bias=False)\n",
              "      (bn1): BatchNorm2d(256, eps=1e-05, momentum=0.1, affine=True, track_running_stats=True)\n",
              "      (relu): ReLU(inplace=True)\n",
              "      (conv2): Conv2d(256, 256, kernel_size=(3, 3), stride=(1, 1), padding=(1, 1), bias=False)\n",
              "      (bn2): BatchNorm2d(256, eps=1e-05, momentum=0.1, affine=True, track_running_stats=True)\n",
              "    )\n",
              "  )\n",
              "  (layer4): Sequential(\n",
              "    (0): BasicBlock(\n",
              "      (conv1): Conv2d(256, 512, kernel_size=(3, 3), stride=(2, 2), padding=(1, 1), bias=False)\n",
              "      (bn1): BatchNorm2d(512, eps=1e-05, momentum=0.1, affine=True, track_running_stats=True)\n",
              "      (relu): ReLU(inplace=True)\n",
              "      (conv2): Conv2d(512, 512, kernel_size=(3, 3), stride=(1, 1), padding=(1, 1), bias=False)\n",
              "      (bn2): BatchNorm2d(512, eps=1e-05, momentum=0.1, affine=True, track_running_stats=True)\n",
              "      (downsample): Sequential(\n",
              "        (0): Conv2d(256, 512, kernel_size=(1, 1), stride=(2, 2), bias=False)\n",
              "        (1): BatchNorm2d(512, eps=1e-05, momentum=0.1, affine=True, track_running_stats=True)\n",
              "      )\n",
              "    )\n",
              "    (1): BasicBlock(\n",
              "      (conv1): Conv2d(512, 512, kernel_size=(3, 3), stride=(1, 1), padding=(1, 1), bias=False)\n",
              "      (bn1): BatchNorm2d(512, eps=1e-05, momentum=0.1, affine=True, track_running_stats=True)\n",
              "      (relu): ReLU(inplace=True)\n",
              "      (conv2): Conv2d(512, 512, kernel_size=(3, 3), stride=(1, 1), padding=(1, 1), bias=False)\n",
              "      (bn2): BatchNorm2d(512, eps=1e-05, momentum=0.1, affine=True, track_running_stats=True)\n",
              "    )\n",
              "  )\n",
              "  (avgpool): AdaptiveAvgPool2d(output_size=(1, 1))\n",
              "  (fc): Linear(in_features=512, out_features=1000, bias=True)\n",
              ")"
            ]
          },
          "metadata": {},
          "execution_count": 11
        }
      ],
      "source": [
        "model_resnet18"
      ]
    },
    {
      "cell_type": "markdown",
      "metadata": {
        "id": "iUsDSMsaoi2F"
      },
      "source": [
        "#### Ajustar a nuestro modelo"
      ]
    },
    {
      "cell_type": "code",
      "execution_count": 6,
      "metadata": {
        "colab": {
          "base_uri": "https://localhost:8080/"
        },
        "id": "sLGjQo3soi2F",
        "outputId": "f70a5ab7-9969-4e4b-b823-0e28c9026749"
      },
      "outputs": [
        {
          "output_type": "execute_result",
          "data": {
            "text/plain": [
              "Sequential(\n",
              "  (0): Conv2d(3, 64, kernel_size=(7, 7), stride=(2, 2), padding=(3, 3), bias=False)\n",
              "  (1): BatchNorm2d(64, eps=1e-05, momentum=0.1, affine=True, track_running_stats=True)\n",
              "  (2): ReLU(inplace=True)\n",
              "  (3): MaxPool2d(kernel_size=3, stride=2, padding=1, dilation=1, ceil_mode=False)\n",
              "  (4): Sequential(\n",
              "    (0): BasicBlock(\n",
              "      (conv1): Conv2d(64, 64, kernel_size=(3, 3), stride=(1, 1), padding=(1, 1), bias=False)\n",
              "      (bn1): BatchNorm2d(64, eps=1e-05, momentum=0.1, affine=True, track_running_stats=True)\n",
              "      (relu): ReLU(inplace=True)\n",
              "      (conv2): Conv2d(64, 64, kernel_size=(3, 3), stride=(1, 1), padding=(1, 1), bias=False)\n",
              "      (bn2): BatchNorm2d(64, eps=1e-05, momentum=0.1, affine=True, track_running_stats=True)\n",
              "    )\n",
              "    (1): BasicBlock(\n",
              "      (conv1): Conv2d(64, 64, kernel_size=(3, 3), stride=(1, 1), padding=(1, 1), bias=False)\n",
              "      (bn1): BatchNorm2d(64, eps=1e-05, momentum=0.1, affine=True, track_running_stats=True)\n",
              "      (relu): ReLU(inplace=True)\n",
              "      (conv2): Conv2d(64, 64, kernel_size=(3, 3), stride=(1, 1), padding=(1, 1), bias=False)\n",
              "      (bn2): BatchNorm2d(64, eps=1e-05, momentum=0.1, affine=True, track_running_stats=True)\n",
              "    )\n",
              "  )\n",
              "  (5): Sequential(\n",
              "    (0): BasicBlock(\n",
              "      (conv1): Conv2d(64, 128, kernel_size=(3, 3), stride=(2, 2), padding=(1, 1), bias=False)\n",
              "      (bn1): BatchNorm2d(128, eps=1e-05, momentum=0.1, affine=True, track_running_stats=True)\n",
              "      (relu): ReLU(inplace=True)\n",
              "      (conv2): Conv2d(128, 128, kernel_size=(3, 3), stride=(1, 1), padding=(1, 1), bias=False)\n",
              "      (bn2): BatchNorm2d(128, eps=1e-05, momentum=0.1, affine=True, track_running_stats=True)\n",
              "      (downsample): Sequential(\n",
              "        (0): Conv2d(64, 128, kernel_size=(1, 1), stride=(2, 2), bias=False)\n",
              "        (1): BatchNorm2d(128, eps=1e-05, momentum=0.1, affine=True, track_running_stats=True)\n",
              "      )\n",
              "    )\n",
              "    (1): BasicBlock(\n",
              "      (conv1): Conv2d(128, 128, kernel_size=(3, 3), stride=(1, 1), padding=(1, 1), bias=False)\n",
              "      (bn1): BatchNorm2d(128, eps=1e-05, momentum=0.1, affine=True, track_running_stats=True)\n",
              "      (relu): ReLU(inplace=True)\n",
              "      (conv2): Conv2d(128, 128, kernel_size=(3, 3), stride=(1, 1), padding=(1, 1), bias=False)\n",
              "      (bn2): BatchNorm2d(128, eps=1e-05, momentum=0.1, affine=True, track_running_stats=True)\n",
              "    )\n",
              "  )\n",
              "  (6): Sequential(\n",
              "    (0): BasicBlock(\n",
              "      (conv1): Conv2d(128, 256, kernel_size=(3, 3), stride=(2, 2), padding=(1, 1), bias=False)\n",
              "      (bn1): BatchNorm2d(256, eps=1e-05, momentum=0.1, affine=True, track_running_stats=True)\n",
              "      (relu): ReLU(inplace=True)\n",
              "      (conv2): Conv2d(256, 256, kernel_size=(3, 3), stride=(1, 1), padding=(1, 1), bias=False)\n",
              "      (bn2): BatchNorm2d(256, eps=1e-05, momentum=0.1, affine=True, track_running_stats=True)\n",
              "      (downsample): Sequential(\n",
              "        (0): Conv2d(128, 256, kernel_size=(1, 1), stride=(2, 2), bias=False)\n",
              "        (1): BatchNorm2d(256, eps=1e-05, momentum=0.1, affine=True, track_running_stats=True)\n",
              "      )\n",
              "    )\n",
              "    (1): BasicBlock(\n",
              "      (conv1): Conv2d(256, 256, kernel_size=(3, 3), stride=(1, 1), padding=(1, 1), bias=False)\n",
              "      (bn1): BatchNorm2d(256, eps=1e-05, momentum=0.1, affine=True, track_running_stats=True)\n",
              "      (relu): ReLU(inplace=True)\n",
              "      (conv2): Conv2d(256, 256, kernel_size=(3, 3), stride=(1, 1), padding=(1, 1), bias=False)\n",
              "      (bn2): BatchNorm2d(256, eps=1e-05, momentum=0.1, affine=True, track_running_stats=True)\n",
              "    )\n",
              "  )\n",
              "  (7): Sequential(\n",
              "    (0): BasicBlock(\n",
              "      (conv1): Conv2d(256, 512, kernel_size=(3, 3), stride=(2, 2), padding=(1, 1), bias=False)\n",
              "      (bn1): BatchNorm2d(512, eps=1e-05, momentum=0.1, affine=True, track_running_stats=True)\n",
              "      (relu): ReLU(inplace=True)\n",
              "      (conv2): Conv2d(512, 512, kernel_size=(3, 3), stride=(1, 1), padding=(1, 1), bias=False)\n",
              "      (bn2): BatchNorm2d(512, eps=1e-05, momentum=0.1, affine=True, track_running_stats=True)\n",
              "      (downsample): Sequential(\n",
              "        (0): Conv2d(256, 512, kernel_size=(1, 1), stride=(2, 2), bias=False)\n",
              "        (1): BatchNorm2d(512, eps=1e-05, momentum=0.1, affine=True, track_running_stats=True)\n",
              "      )\n",
              "    )\n",
              "    (1): BasicBlock(\n",
              "      (conv1): Conv2d(512, 512, kernel_size=(3, 3), stride=(1, 1), padding=(1, 1), bias=False)\n",
              "      (bn1): BatchNorm2d(512, eps=1e-05, momentum=0.1, affine=True, track_running_stats=True)\n",
              "      (relu): ReLU(inplace=True)\n",
              "      (conv2): Conv2d(512, 512, kernel_size=(3, 3), stride=(1, 1), padding=(1, 1), bias=False)\n",
              "      (bn2): BatchNorm2d(512, eps=1e-05, momentum=0.1, affine=True, track_running_stats=True)\n",
              "    )\n",
              "  )\n",
              "  (8): AdaptiveAvgPool2d(output_size=(1, 1))\n",
              "  (9): Linear(in_features=512, out_features=1000, bias=True)\n",
              ")"
            ]
          },
          "metadata": {},
          "execution_count": 6
        }
      ],
      "source": [
        "model_aux = nn.Sequential(*list(model_resnet18.children()))\n",
        "model_aux"
      ]
    },
    {
      "cell_type": "code",
      "execution_count": 7,
      "metadata": {
        "id": "G-ZV9kB2oi2F"
      },
      "outputs": [],
      "source": [
        "model_aux = nn.Sequential(*list(model_resnet18.children())[:-1])"
      ]
    },
    {
      "cell_type": "code",
      "execution_count": 8,
      "metadata": {
        "scrolled": true,
        "colab": {
          "base_uri": "https://localhost:8080/"
        },
        "id": "248DlsWeoi2F",
        "outputId": "92ac537d-f149-4140-8cba-53ca69102c36"
      },
      "outputs": [
        {
          "output_type": "execute_result",
          "data": {
            "text/plain": [
              "Sequential(\n",
              "  (0): Conv2d(3, 64, kernel_size=(7, 7), stride=(2, 2), padding=(3, 3), bias=False)\n",
              "  (1): BatchNorm2d(64, eps=1e-05, momentum=0.1, affine=True, track_running_stats=True)\n",
              "  (2): ReLU(inplace=True)\n",
              "  (3): MaxPool2d(kernel_size=3, stride=2, padding=1, dilation=1, ceil_mode=False)\n",
              "  (4): Sequential(\n",
              "    (0): BasicBlock(\n",
              "      (conv1): Conv2d(64, 64, kernel_size=(3, 3), stride=(1, 1), padding=(1, 1), bias=False)\n",
              "      (bn1): BatchNorm2d(64, eps=1e-05, momentum=0.1, affine=True, track_running_stats=True)\n",
              "      (relu): ReLU(inplace=True)\n",
              "      (conv2): Conv2d(64, 64, kernel_size=(3, 3), stride=(1, 1), padding=(1, 1), bias=False)\n",
              "      (bn2): BatchNorm2d(64, eps=1e-05, momentum=0.1, affine=True, track_running_stats=True)\n",
              "    )\n",
              "    (1): BasicBlock(\n",
              "      (conv1): Conv2d(64, 64, kernel_size=(3, 3), stride=(1, 1), padding=(1, 1), bias=False)\n",
              "      (bn1): BatchNorm2d(64, eps=1e-05, momentum=0.1, affine=True, track_running_stats=True)\n",
              "      (relu): ReLU(inplace=True)\n",
              "      (conv2): Conv2d(64, 64, kernel_size=(3, 3), stride=(1, 1), padding=(1, 1), bias=False)\n",
              "      (bn2): BatchNorm2d(64, eps=1e-05, momentum=0.1, affine=True, track_running_stats=True)\n",
              "    )\n",
              "  )\n",
              "  (5): Sequential(\n",
              "    (0): BasicBlock(\n",
              "      (conv1): Conv2d(64, 128, kernel_size=(3, 3), stride=(2, 2), padding=(1, 1), bias=False)\n",
              "      (bn1): BatchNorm2d(128, eps=1e-05, momentum=0.1, affine=True, track_running_stats=True)\n",
              "      (relu): ReLU(inplace=True)\n",
              "      (conv2): Conv2d(128, 128, kernel_size=(3, 3), stride=(1, 1), padding=(1, 1), bias=False)\n",
              "      (bn2): BatchNorm2d(128, eps=1e-05, momentum=0.1, affine=True, track_running_stats=True)\n",
              "      (downsample): Sequential(\n",
              "        (0): Conv2d(64, 128, kernel_size=(1, 1), stride=(2, 2), bias=False)\n",
              "        (1): BatchNorm2d(128, eps=1e-05, momentum=0.1, affine=True, track_running_stats=True)\n",
              "      )\n",
              "    )\n",
              "    (1): BasicBlock(\n",
              "      (conv1): Conv2d(128, 128, kernel_size=(3, 3), stride=(1, 1), padding=(1, 1), bias=False)\n",
              "      (bn1): BatchNorm2d(128, eps=1e-05, momentum=0.1, affine=True, track_running_stats=True)\n",
              "      (relu): ReLU(inplace=True)\n",
              "      (conv2): Conv2d(128, 128, kernel_size=(3, 3), stride=(1, 1), padding=(1, 1), bias=False)\n",
              "      (bn2): BatchNorm2d(128, eps=1e-05, momentum=0.1, affine=True, track_running_stats=True)\n",
              "    )\n",
              "  )\n",
              "  (6): Sequential(\n",
              "    (0): BasicBlock(\n",
              "      (conv1): Conv2d(128, 256, kernel_size=(3, 3), stride=(2, 2), padding=(1, 1), bias=False)\n",
              "      (bn1): BatchNorm2d(256, eps=1e-05, momentum=0.1, affine=True, track_running_stats=True)\n",
              "      (relu): ReLU(inplace=True)\n",
              "      (conv2): Conv2d(256, 256, kernel_size=(3, 3), stride=(1, 1), padding=(1, 1), bias=False)\n",
              "      (bn2): BatchNorm2d(256, eps=1e-05, momentum=0.1, affine=True, track_running_stats=True)\n",
              "      (downsample): Sequential(\n",
              "        (0): Conv2d(128, 256, kernel_size=(1, 1), stride=(2, 2), bias=False)\n",
              "        (1): BatchNorm2d(256, eps=1e-05, momentum=0.1, affine=True, track_running_stats=True)\n",
              "      )\n",
              "    )\n",
              "    (1): BasicBlock(\n",
              "      (conv1): Conv2d(256, 256, kernel_size=(3, 3), stride=(1, 1), padding=(1, 1), bias=False)\n",
              "      (bn1): BatchNorm2d(256, eps=1e-05, momentum=0.1, affine=True, track_running_stats=True)\n",
              "      (relu): ReLU(inplace=True)\n",
              "      (conv2): Conv2d(256, 256, kernel_size=(3, 3), stride=(1, 1), padding=(1, 1), bias=False)\n",
              "      (bn2): BatchNorm2d(256, eps=1e-05, momentum=0.1, affine=True, track_running_stats=True)\n",
              "    )\n",
              "  )\n",
              "  (7): Sequential(\n",
              "    (0): BasicBlock(\n",
              "      (conv1): Conv2d(256, 512, kernel_size=(3, 3), stride=(2, 2), padding=(1, 1), bias=False)\n",
              "      (bn1): BatchNorm2d(512, eps=1e-05, momentum=0.1, affine=True, track_running_stats=True)\n",
              "      (relu): ReLU(inplace=True)\n",
              "      (conv2): Conv2d(512, 512, kernel_size=(3, 3), stride=(1, 1), padding=(1, 1), bias=False)\n",
              "      (bn2): BatchNorm2d(512, eps=1e-05, momentum=0.1, affine=True, track_running_stats=True)\n",
              "      (downsample): Sequential(\n",
              "        (0): Conv2d(256, 512, kernel_size=(1, 1), stride=(2, 2), bias=False)\n",
              "        (1): BatchNorm2d(512, eps=1e-05, momentum=0.1, affine=True, track_running_stats=True)\n",
              "      )\n",
              "    )\n",
              "    (1): BasicBlock(\n",
              "      (conv1): Conv2d(512, 512, kernel_size=(3, 3), stride=(1, 1), padding=(1, 1), bias=False)\n",
              "      (bn1): BatchNorm2d(512, eps=1e-05, momentum=0.1, affine=True, track_running_stats=True)\n",
              "      (relu): ReLU(inplace=True)\n",
              "      (conv2): Conv2d(512, 512, kernel_size=(3, 3), stride=(1, 1), padding=(1, 1), bias=False)\n",
              "      (bn2): BatchNorm2d(512, eps=1e-05, momentum=0.1, affine=True, track_running_stats=True)\n",
              "    )\n",
              "  )\n",
              "  (8): AdaptiveAvgPool2d(output_size=(1, 1))\n",
              ")"
            ]
          },
          "metadata": {},
          "execution_count": 8
        }
      ],
      "source": [
        "model_aux"
      ]
    },
    {
      "cell_type": "code",
      "execution_count": 15,
      "metadata": {
        "id": "YnygJZapoi2F"
      },
      "outputs": [],
      "source": [
        "for i, parameter in enumerate(model_aux.parameters()):\n",
        "    parameter.requires_grad = False"
      ]
    },
    {
      "cell_type": "code",
      "execution_count": 16,
      "metadata": {
        "scrolled": true,
        "colab": {
          "base_uri": "https://localhost:8080/",
          "height": 0
        },
        "id": "A-cngaEeoi2G",
        "outputId": "88134807-e360-4c08-c8b2-76df6971252c"
      },
      "outputs": [
        {
          "output_type": "stream",
          "name": "stdout",
          "text": [
            "0 False\n",
            "1 False\n",
            "2 False\n",
            "3 False\n",
            "4 False\n",
            "5 False\n",
            "6 False\n",
            "7 False\n",
            "8 False\n",
            "9 False\n",
            "10 False\n",
            "11 False\n",
            "12 False\n",
            "13 False\n",
            "14 False\n",
            "15 False\n",
            "16 False\n",
            "17 False\n",
            "18 False\n",
            "19 False\n",
            "20 False\n",
            "21 False\n",
            "22 False\n",
            "23 False\n",
            "24 False\n",
            "25 False\n",
            "26 False\n",
            "27 False\n",
            "28 False\n",
            "29 False\n",
            "30 False\n",
            "31 False\n",
            "32 False\n",
            "33 False\n",
            "34 False\n",
            "35 False\n",
            "36 False\n",
            "37 False\n",
            "38 False\n",
            "39 False\n",
            "40 False\n",
            "41 False\n",
            "42 False\n",
            "43 False\n",
            "44 False\n",
            "45 False\n",
            "46 False\n",
            "47 False\n",
            "48 False\n",
            "49 False\n",
            "50 False\n",
            "51 False\n",
            "52 False\n",
            "53 False\n",
            "54 False\n",
            "55 False\n",
            "56 False\n",
            "57 False\n",
            "58 False\n",
            "59 False\n"
          ]
        }
      ],
      "source": [
        "for i, parameter in enumerate(model_aux.parameters()):\n",
        "    print(i, parameter.requires_grad)"
      ]
    },
    {
      "cell_type": "code",
      "execution_count": 16,
      "metadata": {
        "id": "Fs3npX3Hoi2G"
      },
      "outputs": [],
      "source": []
    },
    {
      "cell_type": "markdown",
      "metadata": {
        "id": "sytrHg9noi2G"
      },
      "source": [
        "### Loop de entrenamiento"
      ]
    },
    {
      "cell_type": "code",
      "execution_count": 9,
      "metadata": {
        "id": "tWgP7rgcoi2G"
      },
      "outputs": [],
      "source": [
        "def train(model, optimiser, epochs=20):\n",
        "#     def train(model, optimiser, scheduler = None, epochs=100):\n",
        "    model = model.to(device=device)\n",
        "    for epoch in range(epochs):\n",
        "        for i, (xi, yi) in enumerate(train_loader):\n",
        "            model.train()\n",
        "            xi = xi.to(device=device, dtype=torch.float32)\n",
        "            yi = yi.to(device=device, dtype=torch.long)\n",
        "            scores = model(xi)\n",
        "\n",
        "            cost = F.cross_entropy(input= scores, target=yi)\n",
        "\n",
        "            optimiser.zero_grad()\n",
        "            cost.backward()\n",
        "            optimiser.step()\n",
        "\n",
        "        acc = accuracy(model, val_loader)\n",
        "#         if epoch%5 == 0:\n",
        "        print(f'Epoch: {epoch}, costo: {cost.item()}, accuracy: {acc},')\n",
        "#         scheduler.step()"
      ]
    },
    {
      "cell_type": "code",
      "execution_count": 10,
      "metadata": {
        "id": "pIYqaUTxoi2G"
      },
      "outputs": [],
      "source": [
        "hidden1 = 256\n",
        "hidden = 256\n",
        "lr = 5e-4\n",
        "epochs = 3\n",
        "# model1 = nn.Sequential(nn.Flatten(),\n",
        "#                        nn.Linear(in_features=32*32*3, out_features=hidden1), nn.ReLU(),\n",
        "#                        nn.Linear(in_features=hidden1, out_features=hidden), nn.ReLU(),\n",
        "#                        nn.Linear(in_features=hidden, out_features=10))\n",
        "\n",
        "model1 = nn.Sequential(model_aux,\n",
        "                       nn.Flatten(),\n",
        "                       nn.Linear(in_features=512, out_features= 10, bias= True))\n",
        "optimiser = torch.optim.Adam(model1.parameters(), lr=lr, betas=(0.9, 0.999))\n",
        "\n",
        " #train(model1, optimiser, epochs)"
      ]
    },
    {
      "cell_type": "code",
      "execution_count": 11,
      "metadata": {
        "scrolled": true,
        "colab": {
          "base_uri": "https://localhost:8080/"
        },
        "id": "-k3YqKCdoi2G",
        "outputId": "7cae555d-849f-431f-a472-f305c6245260"
      },
      "outputs": [
        {
          "output_type": "execute_result",
          "data": {
            "text/plain": [
              "Sequential(\n",
              "  (0): Sequential(\n",
              "    (0): Conv2d(3, 64, kernel_size=(7, 7), stride=(2, 2), padding=(3, 3), bias=False)\n",
              "    (1): BatchNorm2d(64, eps=1e-05, momentum=0.1, affine=True, track_running_stats=True)\n",
              "    (2): ReLU(inplace=True)\n",
              "    (3): MaxPool2d(kernel_size=3, stride=2, padding=1, dilation=1, ceil_mode=False)\n",
              "    (4): Sequential(\n",
              "      (0): BasicBlock(\n",
              "        (conv1): Conv2d(64, 64, kernel_size=(3, 3), stride=(1, 1), padding=(1, 1), bias=False)\n",
              "        (bn1): BatchNorm2d(64, eps=1e-05, momentum=0.1, affine=True, track_running_stats=True)\n",
              "        (relu): ReLU(inplace=True)\n",
              "        (conv2): Conv2d(64, 64, kernel_size=(3, 3), stride=(1, 1), padding=(1, 1), bias=False)\n",
              "        (bn2): BatchNorm2d(64, eps=1e-05, momentum=0.1, affine=True, track_running_stats=True)\n",
              "      )\n",
              "      (1): BasicBlock(\n",
              "        (conv1): Conv2d(64, 64, kernel_size=(3, 3), stride=(1, 1), padding=(1, 1), bias=False)\n",
              "        (bn1): BatchNorm2d(64, eps=1e-05, momentum=0.1, affine=True, track_running_stats=True)\n",
              "        (relu): ReLU(inplace=True)\n",
              "        (conv2): Conv2d(64, 64, kernel_size=(3, 3), stride=(1, 1), padding=(1, 1), bias=False)\n",
              "        (bn2): BatchNorm2d(64, eps=1e-05, momentum=0.1, affine=True, track_running_stats=True)\n",
              "      )\n",
              "    )\n",
              "    (5): Sequential(\n",
              "      (0): BasicBlock(\n",
              "        (conv1): Conv2d(64, 128, kernel_size=(3, 3), stride=(2, 2), padding=(1, 1), bias=False)\n",
              "        (bn1): BatchNorm2d(128, eps=1e-05, momentum=0.1, affine=True, track_running_stats=True)\n",
              "        (relu): ReLU(inplace=True)\n",
              "        (conv2): Conv2d(128, 128, kernel_size=(3, 3), stride=(1, 1), padding=(1, 1), bias=False)\n",
              "        (bn2): BatchNorm2d(128, eps=1e-05, momentum=0.1, affine=True, track_running_stats=True)\n",
              "        (downsample): Sequential(\n",
              "          (0): Conv2d(64, 128, kernel_size=(1, 1), stride=(2, 2), bias=False)\n",
              "          (1): BatchNorm2d(128, eps=1e-05, momentum=0.1, affine=True, track_running_stats=True)\n",
              "        )\n",
              "      )\n",
              "      (1): BasicBlock(\n",
              "        (conv1): Conv2d(128, 128, kernel_size=(3, 3), stride=(1, 1), padding=(1, 1), bias=False)\n",
              "        (bn1): BatchNorm2d(128, eps=1e-05, momentum=0.1, affine=True, track_running_stats=True)\n",
              "        (relu): ReLU(inplace=True)\n",
              "        (conv2): Conv2d(128, 128, kernel_size=(3, 3), stride=(1, 1), padding=(1, 1), bias=False)\n",
              "        (bn2): BatchNorm2d(128, eps=1e-05, momentum=0.1, affine=True, track_running_stats=True)\n",
              "      )\n",
              "    )\n",
              "    (6): Sequential(\n",
              "      (0): BasicBlock(\n",
              "        (conv1): Conv2d(128, 256, kernel_size=(3, 3), stride=(2, 2), padding=(1, 1), bias=False)\n",
              "        (bn1): BatchNorm2d(256, eps=1e-05, momentum=0.1, affine=True, track_running_stats=True)\n",
              "        (relu): ReLU(inplace=True)\n",
              "        (conv2): Conv2d(256, 256, kernel_size=(3, 3), stride=(1, 1), padding=(1, 1), bias=False)\n",
              "        (bn2): BatchNorm2d(256, eps=1e-05, momentum=0.1, affine=True, track_running_stats=True)\n",
              "        (downsample): Sequential(\n",
              "          (0): Conv2d(128, 256, kernel_size=(1, 1), stride=(2, 2), bias=False)\n",
              "          (1): BatchNorm2d(256, eps=1e-05, momentum=0.1, affine=True, track_running_stats=True)\n",
              "        )\n",
              "      )\n",
              "      (1): BasicBlock(\n",
              "        (conv1): Conv2d(256, 256, kernel_size=(3, 3), stride=(1, 1), padding=(1, 1), bias=False)\n",
              "        (bn1): BatchNorm2d(256, eps=1e-05, momentum=0.1, affine=True, track_running_stats=True)\n",
              "        (relu): ReLU(inplace=True)\n",
              "        (conv2): Conv2d(256, 256, kernel_size=(3, 3), stride=(1, 1), padding=(1, 1), bias=False)\n",
              "        (bn2): BatchNorm2d(256, eps=1e-05, momentum=0.1, affine=True, track_running_stats=True)\n",
              "      )\n",
              "    )\n",
              "    (7): Sequential(\n",
              "      (0): BasicBlock(\n",
              "        (conv1): Conv2d(256, 512, kernel_size=(3, 3), stride=(2, 2), padding=(1, 1), bias=False)\n",
              "        (bn1): BatchNorm2d(512, eps=1e-05, momentum=0.1, affine=True, track_running_stats=True)\n",
              "        (relu): ReLU(inplace=True)\n",
              "        (conv2): Conv2d(512, 512, kernel_size=(3, 3), stride=(1, 1), padding=(1, 1), bias=False)\n",
              "        (bn2): BatchNorm2d(512, eps=1e-05, momentum=0.1, affine=True, track_running_stats=True)\n",
              "        (downsample): Sequential(\n",
              "          (0): Conv2d(256, 512, kernel_size=(1, 1), stride=(2, 2), bias=False)\n",
              "          (1): BatchNorm2d(512, eps=1e-05, momentum=0.1, affine=True, track_running_stats=True)\n",
              "        )\n",
              "      )\n",
              "      (1): BasicBlock(\n",
              "        (conv1): Conv2d(512, 512, kernel_size=(3, 3), stride=(1, 1), padding=(1, 1), bias=False)\n",
              "        (bn1): BatchNorm2d(512, eps=1e-05, momentum=0.1, affine=True, track_running_stats=True)\n",
              "        (relu): ReLU(inplace=True)\n",
              "        (conv2): Conv2d(512, 512, kernel_size=(3, 3), stride=(1, 1), padding=(1, 1), bias=False)\n",
              "        (bn2): BatchNorm2d(512, eps=1e-05, momentum=0.1, affine=True, track_running_stats=True)\n",
              "      )\n",
              "    )\n",
              "    (8): AdaptiveAvgPool2d(output_size=(1, 1))\n",
              "  )\n",
              "  (1): Flatten(start_dim=1, end_dim=-1)\n",
              "  (2): Linear(in_features=512, out_features=10, bias=True)\n",
              ")"
            ]
          },
          "metadata": {},
          "execution_count": 11
        }
      ],
      "source": [
        "model1"
      ]
    },
    {
      "cell_type": "code",
      "execution_count": 14,
      "metadata": {
        "colab": {
          "base_uri": "https://localhost:8080/"
        },
        "id": "G5EwW5nIoi2G",
        "outputId": "a99bdf87-8012-4ab0-905a-42195bc374bd"
      },
      "outputs": [
        {
          "output_type": "stream",
          "name": "stdout",
          "text": [
            "Epoch: 0, costo: 0.2623153626918793, accuracy: 0.8968,\n",
            "Epoch: 1, costo: 0.23275971412658691, accuracy: 0.8942,\n",
            "Epoch: 2, costo: 0.4389301538467407, accuracy: 0.9166,\n"
          ]
        }
      ],
      "source": [
        "train(model1, optimiser, epochs=3)"
      ]
    },
    {
      "cell_type": "code",
      "execution_count": 15,
      "metadata": {
        "colab": {
          "base_uri": "https://localhost:8080/"
        },
        "id": "fWFecRbNoi2H",
        "outputId": "eddce741-3b6e-45fd-f5c9-29bcf3dff109"
      },
      "outputs": [
        {
          "output_type": "execute_result",
          "data": {
            "text/plain": [
              "0.9106"
            ]
          },
          "metadata": {},
          "execution_count": 15
        }
      ],
      "source": [
        "accuracy(model1, test_loader)"
      ]
    },
    {
      "cell_type": "code",
      "execution_count": 16,
      "metadata": {
        "colab": {
          "base_uri": "https://localhost:8080/"
        },
        "id": "d-zITQCxoi2H",
        "outputId": "f0b1cdcd-065c-4287-d82c-862968725d87"
      },
      "outputs": [
        {
          "output_type": "stream",
          "name": "stderr",
          "text": [
            "/usr/local/lib/python3.10/dist-packages/torchvision/models/_utils.py:223: UserWarning: Arguments other than a weight enum or `None` for 'weights' are deprecated since 0.13 and may be removed in the future. The current behavior is equivalent to passing `weights=VGG16_Weights.IMAGENET1K_V1`. You can also use `weights=VGG16_Weights.DEFAULT` to get the most up-to-date weights.\n",
            "  warnings.warn(msg)\n",
            "Downloading: \"https://download.pytorch.org/models/vgg16-397923af.pth\" to /root/.cache/torch/hub/checkpoints/vgg16-397923af.pth\n",
            "100%|██████████| 528M/528M [00:02<00:00, 221MB/s]\n"
          ]
        }
      ],
      "source": [
        "vgg16 = models.vgg16(pretrained=True)\n",
        "model_aux_vgg = nn.Sequential(*list(vgg16.features.children()))"
      ]
    },
    {
      "cell_type": "code",
      "source": [
        "model_aux_vgg"
      ],
      "metadata": {
        "colab": {
          "base_uri": "https://localhost:8080/"
        },
        "id": "otzvfOymOLMR",
        "outputId": "56074a90-7e44-41bd-c4e2-bb318526ae98"
      },
      "execution_count": 17,
      "outputs": [
        {
          "output_type": "execute_result",
          "data": {
            "text/plain": [
              "Sequential(\n",
              "  (0): Conv2d(3, 64, kernel_size=(3, 3), stride=(1, 1), padding=(1, 1))\n",
              "  (1): ReLU(inplace=True)\n",
              "  (2): Conv2d(64, 64, kernel_size=(3, 3), stride=(1, 1), padding=(1, 1))\n",
              "  (3): ReLU(inplace=True)\n",
              "  (4): MaxPool2d(kernel_size=2, stride=2, padding=0, dilation=1, ceil_mode=False)\n",
              "  (5): Conv2d(64, 128, kernel_size=(3, 3), stride=(1, 1), padding=(1, 1))\n",
              "  (6): ReLU(inplace=True)\n",
              "  (7): Conv2d(128, 128, kernel_size=(3, 3), stride=(1, 1), padding=(1, 1))\n",
              "  (8): ReLU(inplace=True)\n",
              "  (9): MaxPool2d(kernel_size=2, stride=2, padding=0, dilation=1, ceil_mode=False)\n",
              "  (10): Conv2d(128, 256, kernel_size=(3, 3), stride=(1, 1), padding=(1, 1))\n",
              "  (11): ReLU(inplace=True)\n",
              "  (12): Conv2d(256, 256, kernel_size=(3, 3), stride=(1, 1), padding=(1, 1))\n",
              "  (13): ReLU(inplace=True)\n",
              "  (14): Conv2d(256, 256, kernel_size=(3, 3), stride=(1, 1), padding=(1, 1))\n",
              "  (15): ReLU(inplace=True)\n",
              "  (16): MaxPool2d(kernel_size=2, stride=2, padding=0, dilation=1, ceil_mode=False)\n",
              "  (17): Conv2d(256, 512, kernel_size=(3, 3), stride=(1, 1), padding=(1, 1))\n",
              "  (18): ReLU(inplace=True)\n",
              "  (19): Conv2d(512, 512, kernel_size=(3, 3), stride=(1, 1), padding=(1, 1))\n",
              "  (20): ReLU(inplace=True)\n",
              "  (21): Conv2d(512, 512, kernel_size=(3, 3), stride=(1, 1), padding=(1, 1))\n",
              "  (22): ReLU(inplace=True)\n",
              "  (23): MaxPool2d(kernel_size=2, stride=2, padding=0, dilation=1, ceil_mode=False)\n",
              "  (24): Conv2d(512, 512, kernel_size=(3, 3), stride=(1, 1), padding=(1, 1))\n",
              "  (25): ReLU(inplace=True)\n",
              "  (26): Conv2d(512, 512, kernel_size=(3, 3), stride=(1, 1), padding=(1, 1))\n",
              "  (27): ReLU(inplace=True)\n",
              "  (28): Conv2d(512, 512, kernel_size=(3, 3), stride=(1, 1), padding=(1, 1))\n",
              "  (29): ReLU(inplace=True)\n",
              "  (30): MaxPool2d(kernel_size=2, stride=2, padding=0, dilation=1, ceil_mode=False)\n",
              ")"
            ]
          },
          "metadata": {},
          "execution_count": 17
        }
      ]
    },
    {
      "cell_type": "code",
      "source": [
        "\n",
        "#Clase que define un modelo basado en VGG16.\n",
        "#Args: num_classes (int): Número de clases para la clasificación.\n",
        "#Métodos: forward(x): Realiza la pasada hacia adelante a través del modelo.\n",
        "\n",
        "class VGG16Model(nn.Module):\n",
        "    def __init__(self, num_classes):\n",
        "    #Inicializa el modelo VGG16 y ajusta la capa final para el número de clases.\n",
        "        super(VGG16Model, self).__init__()\n",
        "        self.model = vgg16\n",
        "\n",
        "    def forward(self, x):\n",
        "        return self.model(x)\n",
        "\n",
        "\n",
        "#Clase que define un modelo basado en DenseNet.\n",
        "#Args: num_classes (int): Número de clases para la clasificación.\n",
        "#Métodos: forward(x): Realiza la pasada hacia adelante a través del modelo.\n",
        "\n",
        "class DenseNet121Model(nn.Module):\n",
        "    def __init__(self, num_classes):\n",
        "        super(DenseNet121Model, self).__init__()\n",
        "        self.model = densenet121\n",
        "\n",
        "    def forward(self, x):\n",
        "        return self.model(x)"
      ],
      "metadata": {
        "id": "j7D89r8p8Eyc"
      },
      "execution_count": null,
      "outputs": []
    },
    {
      "cell_type": "code",
      "source": [
        "# Freeze layers for VGG16\n",
        "for param in vgg16.features.parameters():\n",
        "    param.requires_grad = False\n",
        "\n",
        "# Freeze layers for DenseNet121\n",
        "#for param in densenet121.parameters():\n",
        "  #  param.requires_grad = False"
      ],
      "metadata": {
        "id": "RLi-fLKv7_P2"
      },
      "execution_count": 36,
      "outputs": []
    },
    {
      "cell_type": "code",
      "source": [
        "num_classes = 10  #number of classes\n",
        "vgg_model = VGG16Model(num_classes=10)\n",
        "densenet_model = DenseNet121Model(num_classes=10)"
      ],
      "metadata": {
        "id": "Sf0Z-Mkb8HHI"
      },
      "execution_count": 39,
      "outputs": []
    },
    {
      "cell_type": "code",
      "source": [
        "train(vgg_model, optimiser, epochs=3)"
      ],
      "metadata": {
        "colab": {
          "base_uri": "https://localhost:8080/"
        },
        "id": "c_3noThyOnIs",
        "outputId": "66c2c8da-630d-4dc9-ad18-c979c7101d07"
      },
      "execution_count": 34,
      "outputs": [
        {
          "output_type": "stream",
          "name": "stdout",
          "text": [
            "Epoch: 0, costo: 1.0728223323822021, accuracy: 0.811,\n",
            "Epoch: 1, costo: 0.1615668088197708, accuracy: 0.825,\n",
            "Epoch: 2, costo: 0.8894282579421997, accuracy: 0.8282,\n"
          ]
        }
      ]
    },
    {
      "cell_type": "markdown",
      "source": [
        "De la actividad realizada pude observar que:\n",
        "\n",
        "Utilizar modelos pre entrenados, pueden resultar en un mejor rendimiento inicial, como se puede observar tanto en las métricas de resnet como vgg, ambos modelos arrojan un accuracy arriba del 80% en la primera epoca.\n",
        "\n",
        "La técnica transfer learning nos da la posibilidad de aprovechar arquitecturas ya probadas y optimizadas sin tener que implementarlas desde cero. También se puede hacer uso de la documentación existente de Zoo.\n",
        "\n",
        "Comparación de los modelos:\n",
        "\n",
        "ResNet-18  La métrica de precisión inicial fue de 89.68% lo cual indica que el modelo pudo capturar  efectivamente  las características relevantes del conjunto de datos desde el principio.\n",
        "\n",
        "El modelo ayudó a mitigar problemas como el desvanecimiento del gradiente, permitiendo un aprendizaje más efectivo.\n",
        "\n",
        "Modelo 2: VGG16\n",
        "\n",
        "Se utilizaron los mismos parametros de resnet18 para comparar el rendimiento inicial y general, encontrando que este modelo tuvo una precisión inicial por debajo del anterior, en general se observa que el modelo requeriria de más epocas para arrojar mejores resultados.\n",
        "\n",
        "\n",
        "En general se investigó que  ResNet-18 permite un aprendizaje más efectivo, especialmente con redes más profundas, mientras que la arquitectura de VGG16 podría tener problemas con el desvanecimiento del gradiente, especialmente sin normalización por lotes.\n",
        "\n",
        "Recomendaciones:\n",
        "\n",
        "Ajustar hiperparametros para el modelo VG16 y buscar implementar otras técnicas de regularización.\n",
        "\n",
        "Para restnet consideramos que solo se debe incrementar el número de epocas mientras se monitorea que el algoritmo no esté sobreajustando.\n"
      ],
      "metadata": {
        "id": "mqWHHxFna--m"
      }
    },
    {
      "cell_type": "code",
      "source": [
        "densenet121 = models.densenet121(pretrained=True)\n",
        "model_aux_densenet = nn.Sequential(*list(densenet121.children())[:-1])"
      ],
      "metadata": {
        "colab": {
          "base_uri": "https://localhost:8080/",
          "height": 159
        },
        "id": "LY4D4BA570Vm",
        "outputId": "20be0bb6-b757-4da7-a86d-c1550a0ff4e6"
      },
      "execution_count": 3,
      "outputs": [
        {
          "output_type": "error",
          "ename": "NameError",
          "evalue": "name 'models' is not defined",
          "traceback": [
            "\u001b[0;31m---------------------------------------------------------------------------\u001b[0m",
            "\u001b[0;31mNameError\u001b[0m                                 Traceback (most recent call last)",
            "\u001b[0;32m<ipython-input-3-8fede19e162c>\u001b[0m in \u001b[0;36m<cell line: 1>\u001b[0;34m()\u001b[0m\n\u001b[0;32m----> 1\u001b[0;31m \u001b[0mdensenet121\u001b[0m \u001b[0;34m=\u001b[0m \u001b[0mmodels\u001b[0m\u001b[0;34m.\u001b[0m\u001b[0mdensenet121\u001b[0m\u001b[0;34m(\u001b[0m\u001b[0mpretrained\u001b[0m\u001b[0;34m=\u001b[0m\u001b[0;32mTrue\u001b[0m\u001b[0;34m)\u001b[0m\u001b[0;34m\u001b[0m\u001b[0;34m\u001b[0m\u001b[0m\n\u001b[0m\u001b[1;32m      2\u001b[0m \u001b[0mmodel_aux_densenet\u001b[0m \u001b[0;34m=\u001b[0m \u001b[0mnn\u001b[0m\u001b[0;34m.\u001b[0m\u001b[0mSequential\u001b[0m\u001b[0;34m(\u001b[0m\u001b[0;34m*\u001b[0m\u001b[0mlist\u001b[0m\u001b[0;34m(\u001b[0m\u001b[0mdensenet121\u001b[0m\u001b[0;34m.\u001b[0m\u001b[0mchildren\u001b[0m\u001b[0;34m(\u001b[0m\u001b[0;34m)\u001b[0m\u001b[0;34m)\u001b[0m\u001b[0;34m[\u001b[0m\u001b[0;34m:\u001b[0m\u001b[0;34m-\u001b[0m\u001b[0;36m1\u001b[0m\u001b[0;34m]\u001b[0m\u001b[0;34m)\u001b[0m\u001b[0;34m\u001b[0m\u001b[0;34m\u001b[0m\u001b[0m\n",
            "\u001b[0;31mNameError\u001b[0m: name 'models' is not defined"
          ]
        }
      ]
    },
    {
      "cell_type": "code",
      "source": [
        "densenet_model = DenseNet121Model(num_classes=10)"
      ],
      "metadata": {
        "id": "F_5ujghnUJzO"
      },
      "execution_count": 37,
      "outputs": []
    },
    {
      "cell_type": "code",
      "source": [
        "train(densenet_model, optimiser, epochs=3)"
      ],
      "metadata": {
        "colab": {
          "base_uri": "https://localhost:8080/"
        },
        "id": "IwXJo0ihUNbf",
        "outputId": "ad7960b9-1d24-4be0-b9a0-5747d9c77f21"
      },
      "execution_count": 38,
      "outputs": [
        {
          "output_type": "stream",
          "name": "stdout",
          "text": [
            "Epoch: 0, costo: 8.230318069458008, accuracy: 0.0012,\n",
            "Epoch: 1, costo: 9.138506889343262, accuracy: 0.0014,\n",
            "Epoch: 2, costo: 9.004850387573242, accuracy: 0.0008,\n"
          ]
        }
      ]
    }
  ],
  "metadata": {
    "kernelspec": {
      "display_name": "Python 3",
      "name": "python3"
    },
    "language_info": {
      "codemirror_mode": {
        "name": "ipython",
        "version": 3
      },
      "file_extension": ".py",
      "mimetype": "text/x-python",
      "name": "python",
      "nbconvert_exporter": "python",
      "pygments_lexer": "ipython3",
      "version": "3.9.0"
    },
    "toc": {
      "base_numbering": 1,
      "nav_menu": {},
      "number_sections": true,
      "sideBar": true,
      "skip_h1_title": false,
      "title_cell": "Table of Contents",
      "title_sidebar": "Contents",
      "toc_cell": false,
      "toc_position": {},
      "toc_section_display": true,
      "toc_window_display": false
    },
    "varInspector": {
      "cols": {
        "lenName": 16,
        "lenType": 16,
        "lenVar": 40
      },
      "kernels_config": {
        "python": {
          "delete_cmd_postfix": "",
          "delete_cmd_prefix": "del ",
          "library": "var_list.py",
          "varRefreshCmd": "print(var_dic_list())"
        },
        "r": {
          "delete_cmd_postfix": ") ",
          "delete_cmd_prefix": "rm(",
          "library": "var_list.r",
          "varRefreshCmd": "cat(var_dic_list()) "
        }
      },
      "types_to_exclude": [
        "module",
        "function",
        "builtin_function_or_method",
        "instance",
        "_Feature"
      ],
      "window_display": false
    },
    "colab": {
      "provenance": []
    }
  },
  "nbformat": 4,
  "nbformat_minor": 0
}