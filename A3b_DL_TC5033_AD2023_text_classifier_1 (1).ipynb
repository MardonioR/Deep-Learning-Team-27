{
  "cells": [
    {
      "cell_type": "markdown",
      "id": "940c6dbc",
      "metadata": {
        "id": "940c6dbc"
      },
      "source": [
        "## TC 5033\n",
        "### Text Classifier\n",
        "\n",
        "Juan Antonio Chiñas Mata: A01794191 <br>\n",
        "José Alejandro Cortés Pérez: A01795033 <br>\n",
        "Moises Flores Ortíz: A01795489 <br>\n",
        "Mardonio Manuel Román Ramírez: A01795265 <br>\n",
        "Miriam Eunice Rosas Medellín: A01795550 <br><br>\n",
        "\n",
        "#### Activity 3b: Text Classification using RNNs and AG_NEWS dataset in PyTorch\n",
        "\n",
        "- Objective:\n",
        "    - Understand the basics of Recurrent Neural Networks (RNNs) and their application in text classification.\n",
        "    - Learn how to handle a real-world text dataset, AG_NEWS, in PyTorch.\n",
        "    - Gain hands-on experience in defining, training, and evaluating a text classification model in PyTorch.\n",
        "    \n",
        "<br>\n",
        "\n",
        "- Instructions:\n",
        "    - Data Preparation: Starter code will be provided that loads the AG_NEWS dataset and prepares it for training. Do not modify this part. However, you should be sure to understand it, and comment it, the use of markdown cells is suggested.\n",
        "\n",
        "    - Model Setup: A skeleton code for the RNN model class will be provided. Complete this class and use it to instantiate your model.\n",
        "\n",
        "    - Implementing Accuracy Function: Write a function that takes model predictions and ground truth labels as input and returns the model's accuracy.\n",
        "\n",
        "    - Training Function: Implement a function that performs training on the given model using the AG_NEWS dataset. Your model should achieve an accuracy of at least 80% to get full marks for this part.\n",
        "\n",
        "    - Text Sampling: Write a function that takes a sample text as input and classifies it using your trained model.\n",
        "\n",
        "    - Confusion Matrix: Implement a function to display the confusion matrix for your model on the test data.\n",
        "\n",
        "    - Submission: Submit your completed Jupyter Notebook. Make sure to include a markdown cell at the beginning of the notebook that lists the names of all team members. Teams should consist of 3 to 4 members.\n",
        "    \n",
        "<br>\n",
        "\n",
        "- Evaluation Criteria:\n",
        "\n",
        "    - Correct setup of all the required libraries and modules (10%)\n",
        "    - Code Quality (30%): Your code should be well-organized, clearly commented, and easy to follow. Use also markdown cells for clarity. Comments should be given for all the provided code, this will help you understand its functionality.\n",
        "    \n",
        "   - Functionality (60%):\n",
        "        - All the functions should execute without errors and provide the expected outputs.\n",
        "        - RNN model class (20%)\n",
        "        - Accuracy fucntion (10%)\n",
        "        - Training function (10%)\n",
        "        - Sampling function (10%)\n",
        "        - Confucion matrix (10%)\n",
        "        - The model should achieve at least an 80% accuracy on the AG_NEWS test set for full marks in this criterion.\n"
      ]
    },
    {
      "cell_type": "markdown",
      "id": "4de318da",
      "metadata": {
        "id": "4de318da"
      },
      "source": [
        "Dataset\n",
        "\n",
        "https://pytorch.org/text/stable/datasets.html#text-classification\n",
        "\n",
        "https://paperswithcode.com/dataset/ag-news\n"
      ]
    },
    {
      "cell_type": "markdown",
      "id": "4a9801f9",
      "metadata": {
        "id": "4a9801f9"
      },
      "source": [
        "## Import libraries and setup"
      ]
    },
    {
      "cell_type": "code",
      "source": [
        "# -- IMPORTANT --\n",
        "# GOOGLE COLAB SETUP\n",
        "\n",
        "# Install PyTorch, TorchVision, Torchaudio with CUDA 11.8 support\n",
        "!pip install torch==2.0.1+cu118 \\\n",
        "    torchvision==0.15.2+cu118 \\\n",
        "    torchaudio==2.0.2+cu118 \\\n",
        "    -f https://download.pytorch.org/whl/torch_stable.html\n",
        "\n",
        "# Install torchtext and torchdata\n",
        "!pip install torchtext==0.15.2\n",
        "\n",
        "# Install portalocker\n",
        "!pip install portalocker>=2.0.0\n",
        "\n",
        "# Install scikit-plot for confusion matrix plotting\n",
        "!pip install scipy==1.11.0\n",
        "!pip install scikit-plot"
      ],
      "metadata": {
        "collapsed": true,
        "id": "3BRrXZudBfbd",
        "colab": {
          "base_uri": "https://localhost:8080/"
        },
        "outputId": "443d3551-995b-4bf3-a917-f2d5fb1cc9a4"
      },
      "id": "3BRrXZudBfbd",
      "execution_count": 1,
      "outputs": [
        {
          "output_type": "stream",
          "name": "stdout",
          "text": [
            "Looking in links: https://download.pytorch.org/whl/torch_stable.html\n",
            "Requirement already satisfied: torch==2.0.1+cu118 in /usr/local/lib/python3.10/dist-packages (2.0.1+cu118)\n",
            "Requirement already satisfied: torchvision==0.15.2+cu118 in /usr/local/lib/python3.10/dist-packages (0.15.2+cu118)\n",
            "Requirement already satisfied: torchaudio==2.0.2+cu118 in /usr/local/lib/python3.10/dist-packages (2.0.2+cu118)\n",
            "Requirement already satisfied: filelock in /usr/local/lib/python3.10/dist-packages (from torch==2.0.1+cu118) (3.16.1)\n",
            "Requirement already satisfied: typing-extensions in /usr/local/lib/python3.10/dist-packages (from torch==2.0.1+cu118) (4.12.2)\n",
            "Requirement already satisfied: sympy in /usr/local/lib/python3.10/dist-packages (from torch==2.0.1+cu118) (1.13.1)\n",
            "Requirement already satisfied: networkx in /usr/local/lib/python3.10/dist-packages (from torch==2.0.1+cu118) (3.4.2)\n",
            "Requirement already satisfied: jinja2 in /usr/local/lib/python3.10/dist-packages (from torch==2.0.1+cu118) (3.1.4)\n",
            "Requirement already satisfied: triton==2.0.0 in /usr/local/lib/python3.10/dist-packages (from torch==2.0.1+cu118) (2.0.0)\n",
            "Requirement already satisfied: numpy in /usr/local/lib/python3.10/dist-packages (from torchvision==0.15.2+cu118) (1.26.4)\n",
            "Requirement already satisfied: requests in /usr/local/lib/python3.10/dist-packages (from torchvision==0.15.2+cu118) (2.32.3)\n",
            "Requirement already satisfied: pillow!=8.3.*,>=5.3.0 in /usr/local/lib/python3.10/dist-packages (from torchvision==0.15.2+cu118) (10.4.0)\n",
            "Requirement already satisfied: cmake in /usr/local/lib/python3.10/dist-packages (from triton==2.0.0->torch==2.0.1+cu118) (3.30.5)\n",
            "Requirement already satisfied: lit in /usr/local/lib/python3.10/dist-packages (from triton==2.0.0->torch==2.0.1+cu118) (18.1.8)\n",
            "Requirement already satisfied: MarkupSafe>=2.0 in /usr/local/lib/python3.10/dist-packages (from jinja2->torch==2.0.1+cu118) (3.0.2)\n",
            "Requirement already satisfied: charset-normalizer<4,>=2 in /usr/local/lib/python3.10/dist-packages (from requests->torchvision==0.15.2+cu118) (3.4.0)\n",
            "Requirement already satisfied: idna<4,>=2.5 in /usr/local/lib/python3.10/dist-packages (from requests->torchvision==0.15.2+cu118) (3.10)\n",
            "Requirement already satisfied: urllib3<3,>=1.21.1 in /usr/local/lib/python3.10/dist-packages (from requests->torchvision==0.15.2+cu118) (2.2.3)\n",
            "Requirement already satisfied: certifi>=2017.4.17 in /usr/local/lib/python3.10/dist-packages (from requests->torchvision==0.15.2+cu118) (2024.8.30)\n",
            "Requirement already satisfied: mpmath<1.4,>=1.1.0 in /usr/local/lib/python3.10/dist-packages (from sympy->torch==2.0.1+cu118) (1.3.0)\n",
            "Requirement already satisfied: torchtext==0.15.2 in /usr/local/lib/python3.10/dist-packages (0.15.2)\n",
            "Requirement already satisfied: tqdm in /usr/local/lib/python3.10/dist-packages (from torchtext==0.15.2) (4.66.6)\n",
            "Requirement already satisfied: requests in /usr/local/lib/python3.10/dist-packages (from torchtext==0.15.2) (2.32.3)\n",
            "Requirement already satisfied: torch==2.0.1 in /usr/local/lib/python3.10/dist-packages (from torchtext==0.15.2) (2.0.1+cu118)\n",
            "Requirement already satisfied: numpy in /usr/local/lib/python3.10/dist-packages (from torchtext==0.15.2) (1.26.4)\n",
            "Requirement already satisfied: torchdata==0.6.1 in /usr/local/lib/python3.10/dist-packages (from torchtext==0.15.2) (0.6.1)\n",
            "Requirement already satisfied: filelock in /usr/local/lib/python3.10/dist-packages (from torch==2.0.1->torchtext==0.15.2) (3.16.1)\n",
            "Requirement already satisfied: typing-extensions in /usr/local/lib/python3.10/dist-packages (from torch==2.0.1->torchtext==0.15.2) (4.12.2)\n",
            "Requirement already satisfied: sympy in /usr/local/lib/python3.10/dist-packages (from torch==2.0.1->torchtext==0.15.2) (1.13.1)\n",
            "Requirement already satisfied: networkx in /usr/local/lib/python3.10/dist-packages (from torch==2.0.1->torchtext==0.15.2) (3.4.2)\n",
            "Requirement already satisfied: jinja2 in /usr/local/lib/python3.10/dist-packages (from torch==2.0.1->torchtext==0.15.2) (3.1.4)\n",
            "Requirement already satisfied: triton==2.0.0 in /usr/local/lib/python3.10/dist-packages (from torch==2.0.1->torchtext==0.15.2) (2.0.0)\n",
            "Requirement already satisfied: urllib3>=1.25 in /usr/local/lib/python3.10/dist-packages (from torchdata==0.6.1->torchtext==0.15.2) (2.2.3)\n",
            "Requirement already satisfied: cmake in /usr/local/lib/python3.10/dist-packages (from triton==2.0.0->torch==2.0.1->torchtext==0.15.2) (3.30.5)\n",
            "Requirement already satisfied: lit in /usr/local/lib/python3.10/dist-packages (from triton==2.0.0->torch==2.0.1->torchtext==0.15.2) (18.1.8)\n",
            "Requirement already satisfied: charset-normalizer<4,>=2 in /usr/local/lib/python3.10/dist-packages (from requests->torchtext==0.15.2) (3.4.0)\n",
            "Requirement already satisfied: idna<4,>=2.5 in /usr/local/lib/python3.10/dist-packages (from requests->torchtext==0.15.2) (3.10)\n",
            "Requirement already satisfied: certifi>=2017.4.17 in /usr/local/lib/python3.10/dist-packages (from requests->torchtext==0.15.2) (2024.8.30)\n",
            "Requirement already satisfied: MarkupSafe>=2.0 in /usr/local/lib/python3.10/dist-packages (from jinja2->torch==2.0.1->torchtext==0.15.2) (3.0.2)\n",
            "Requirement already satisfied: mpmath<1.4,>=1.1.0 in /usr/local/lib/python3.10/dist-packages (from sympy->torch==2.0.1->torchtext==0.15.2) (1.3.0)\n",
            "Requirement already satisfied: scipy==1.11.0 in /usr/local/lib/python3.10/dist-packages (1.11.0)\n",
            "Requirement already satisfied: numpy<1.28.0,>=1.21.6 in /usr/local/lib/python3.10/dist-packages (from scipy==1.11.0) (1.26.4)\n",
            "Collecting scikit-plot\n",
            "  Downloading scikit_plot-0.3.7-py3-none-any.whl.metadata (7.1 kB)\n",
            "Requirement already satisfied: matplotlib>=1.4.0 in /usr/local/lib/python3.10/dist-packages (from scikit-plot) (3.8.0)\n",
            "Requirement already satisfied: scikit-learn>=0.18 in /usr/local/lib/python3.10/dist-packages (from scikit-plot) (1.5.2)\n",
            "Requirement already satisfied: scipy>=0.9 in /usr/local/lib/python3.10/dist-packages (from scikit-plot) (1.11.0)\n",
            "Requirement already satisfied: joblib>=0.10 in /usr/local/lib/python3.10/dist-packages (from scikit-plot) (1.4.2)\n",
            "Requirement already satisfied: contourpy>=1.0.1 in /usr/local/lib/python3.10/dist-packages (from matplotlib>=1.4.0->scikit-plot) (1.3.0)\n",
            "Requirement already satisfied: cycler>=0.10 in /usr/local/lib/python3.10/dist-packages (from matplotlib>=1.4.0->scikit-plot) (0.12.1)\n",
            "Requirement already satisfied: fonttools>=4.22.0 in /usr/local/lib/python3.10/dist-packages (from matplotlib>=1.4.0->scikit-plot) (4.54.1)\n",
            "Requirement already satisfied: kiwisolver>=1.0.1 in /usr/local/lib/python3.10/dist-packages (from matplotlib>=1.4.0->scikit-plot) (1.4.7)\n",
            "Requirement already satisfied: numpy<2,>=1.21 in /usr/local/lib/python3.10/dist-packages (from matplotlib>=1.4.0->scikit-plot) (1.26.4)\n",
            "Requirement already satisfied: packaging>=20.0 in /usr/local/lib/python3.10/dist-packages (from matplotlib>=1.4.0->scikit-plot) (24.1)\n",
            "Requirement already satisfied: pillow>=6.2.0 in /usr/local/lib/python3.10/dist-packages (from matplotlib>=1.4.0->scikit-plot) (10.4.0)\n",
            "Requirement already satisfied: pyparsing>=2.3.1 in /usr/local/lib/python3.10/dist-packages (from matplotlib>=1.4.0->scikit-plot) (3.2.0)\n",
            "Requirement already satisfied: python-dateutil>=2.7 in /usr/local/lib/python3.10/dist-packages (from matplotlib>=1.4.0->scikit-plot) (2.8.2)\n",
            "Requirement already satisfied: threadpoolctl>=3.1.0 in /usr/local/lib/python3.10/dist-packages (from scikit-learn>=0.18->scikit-plot) (3.5.0)\n",
            "Requirement already satisfied: six>=1.5 in /usr/local/lib/python3.10/dist-packages (from python-dateutil>=2.7->matplotlib>=1.4.0->scikit-plot) (1.16.0)\n",
            "Downloading scikit_plot-0.3.7-py3-none-any.whl (33 kB)\n",
            "Installing collected packages: scikit-plot\n",
            "Successfully installed scikit-plot-0.3.7\n"
          ]
        }
      ]
    },
    {
      "cell_type": "code",
      "execution_count": 1,
      "id": "878b524f",
      "metadata": {
        "id": "878b524f"
      },
      "outputs": [],
      "source": [
        "# The following libraries are required for running the given code\n",
        "# Feel free to add any libraries you consider adequate to complete the assignment\n",
        "import os\n",
        "import gc\n",
        "import numpy as np\n",
        "import torch\n",
        "from torch import nn\n",
        "from torch.nn import functional as F\n",
        "from torch.utils.data import DataLoader\n",
        "from torch.utils.data.dataset import random_split\n",
        "from torchtext.datasets import AG_NEWS\n",
        "from torchtext.data.utils import get_tokenizer\n",
        "from torchtext.vocab import build_vocab_from_iterator\n",
        "from torchtext.data.functional import to_map_style_dataset\n",
        "import portalocker\n",
        "\n",
        "# These libraries are suggested for plotting the confusion matrix\n",
        "# You may use others if preferred\n",
        "import scikitplot as skplt\n",
        "from sklearn.metrics import confusion_matrix\n",
        "import matplotlib.pyplot as plt"
      ]
    },
    {
      "cell_type": "code",
      "source": [
        "# Set the location of the PyTorch cache directory to '/tmp/torch_cache'\n",
        "os.environ['TORCH_HOME'] = '/tmp/torch_cache'"
      ],
      "metadata": {
        "id": "PIVv66QdrGNi"
      },
      "id": "PIVv66QdrGNi",
      "execution_count": 2,
      "outputs": []
    },
    {
      "cell_type": "code",
      "execution_count": 3,
      "id": "3bab55f3",
      "metadata": {
        "id": "3bab55f3",
        "colab": {
          "base_uri": "https://localhost:8080/"
        },
        "outputId": "ec82b729-7ba6-465d-f3fa-38614461f742"
      },
      "outputs": [
        {
          "output_type": "stream",
          "name": "stdout",
          "text": [
            "cuda\n"
          ]
        }
      ],
      "source": [
        "# Use GPU if available\n",
        "device = torch.device('cuda' if torch.cuda.is_available() else 'cpu')\n",
        "\n",
        "print(device)"
      ]
    },
    {
      "cell_type": "markdown",
      "source": [
        "## Data Preparation"
      ],
      "metadata": {
        "id": "QuSS9xudPsm7"
      },
      "id": "QuSS9xudPsm7"
    },
    {
      "cell_type": "markdown",
      "id": "e9c6b784",
      "metadata": {
        "id": "e9c6b784"
      },
      "source": [
        "The **AG_NEWS** dataset will be used to train and test RNNs models for text classification. The AG_NEWS dataset is a dataset for news topic classification. It consists of news articles categorized into four main topics:\n",
        "\n",
        "*   **World**: News related to global events, international politics, and global affairs\n",
        "*   **Sports**: News about sports events, games, athletes, and sports-related stories\n",
        "*   **Business**: Articles covering financial news, economic updates, business-related developments, and market trends\n",
        "*   **Sci/Tech**: News focused on science and technology, including research updates, tech developments, and related discoveries\n",
        "\n",
        "\n",
        "Each data entry in the dataset consists of a tuple containing a label representing the topic and the text of the news headline.\n",
        "\n",
        "**Dataset summary:**\n",
        "*   Number of Classes: 4\n",
        "*   Data Format: The dataset entries are tuples, with each containing a label and the text\n",
        "*   Size: 120,000 training samples and 7,600 test samples\n",
        "\n",
        "\n",
        "**Classes**:\n",
        "* 1 - World\n",
        "* 2 - Sports\n",
        "* 3 - Business\n",
        "* 4 - Sci/Tech"
      ]
    },
    {
      "cell_type": "markdown",
      "id": "3d38956d",
      "metadata": {
        "id": "3d38956d"
      },
      "source": [
        "#### Get the train and the test datasets and dataloaders"
      ]
    },
    {
      "cell_type": "markdown",
      "source": [
        "First, we have loaded the AG_NEWS dataset into train and test sets and indexing them so the Pytorch Dataloders can process as per the required format."
      ],
      "metadata": {
        "id": "maAFLUjVUtPk"
      },
      "id": "maAFLUjVUtPk"
    },
    {
      "cell_type": "code",
      "execution_count": 4,
      "id": "49fbed19",
      "metadata": {
        "id": "49fbed19"
      },
      "outputs": [],
      "source": [
        "# Load the AG_NEWS dataset (training and test splits)\n",
        "train_dataset, test_dataset = AG_NEWS()\n",
        "\n",
        "# Convert the datasets to map-style format for easier indexing and compatibility with DataLoader\n",
        "train_dataset = to_map_style_dataset(train_dataset)\n",
        "test_dataset = to_map_style_dataset(test_dataset)"
      ]
    },
    {
      "cell_type": "code",
      "source": [
        "# Print the first 5 samples from the training dataset\n",
        "for i in range(5):\n",
        "    print(train_dataset[i])"
      ],
      "metadata": {
        "colab": {
          "base_uri": "https://localhost:8080/"
        },
        "id": "DLlmhU9qVsx7",
        "outputId": "a913c9eb-1487-4f0f-b5d0-52049d95f278"
      },
      "id": "DLlmhU9qVsx7",
      "execution_count": 5,
      "outputs": [
        {
          "output_type": "stream",
          "name": "stdout",
          "text": [
            "(3, \"Wall St. Bears Claw Back Into the Black (Reuters) Reuters - Short-sellers, Wall Street's dwindling\\\\band of ultra-cynics, are seeing green again.\")\n",
            "(3, 'Carlyle Looks Toward Commercial Aerospace (Reuters) Reuters - Private investment firm Carlyle Group,\\\\which has a reputation for making well-timed and occasionally\\\\controversial plays in the defense industry, has quietly placed\\\\its bets on another part of the market.')\n",
            "(3, \"Oil and Economy Cloud Stocks' Outlook (Reuters) Reuters - Soaring crude prices plus worries\\\\about the economy and the outlook for earnings are expected to\\\\hang over the stock market next week during the depth of the\\\\summer doldrums.\")\n",
            "(3, 'Iraq Halts Oil Exports from Main Southern Pipeline (Reuters) Reuters - Authorities have halted oil export\\\\flows from the main pipeline in southern Iraq after\\\\intelligence showed a rebel militia could strike\\\\infrastructure, an oil official said on Saturday.')\n",
            "(3, 'Oil prices soar to all-time record, posing new menace to US economy (AFP) AFP - Tearaway world oil prices, toppling records and straining wallets, present a new economic menace barely three months before the US presidential elections.')\n"
          ]
        }
      ]
    },
    {
      "cell_type": "markdown",
      "source": [
        "Then we defined a tokinizer that will split text into words, convert text to lowercase and split by spaces. Then we required a function that tokinize the data but using a yield to generate tokens one at a time, rather than storing them all in memory, making the process efficient for large datasets."
      ],
      "metadata": {
        "id": "wV-qO6aTWX91"
      },
      "id": "wV-qO6aTWX91"
    },
    {
      "cell_type": "code",
      "execution_count": 6,
      "id": "9c372eb9",
      "metadata": {
        "id": "9c372eb9"
      },
      "outputs": [],
      "source": [
        "# Get the tokenizer\n",
        "# Create a tokenizer object using basic English tokenization\n",
        "tokenizer = get_tokenizer('basic_english')\n",
        "\n",
        "def yield_tokens(data):\n",
        "    \"\"\"\n",
        "    Generator function to tokenize text data.\n",
        "\n",
        "    Args:\n",
        "        data (iterable): An iterable of samples, where each sample is a tuple\n",
        "                         containing an ID and a text string (e.g., (label, text)).\n",
        "\n",
        "    Yields:\n",
        "        list: A list of tokens obtained by tokenizing the text string using the tokenizer.\n",
        "    \"\"\"\n",
        "    for _, text in data:\n",
        "        yield tokenizer(text)"
      ]
    },
    {
      "cell_type": "markdown",
      "source": [
        "We also have to build the vocabulary containing a mapping of each unique word in `train_dataset` to a unique integer index and setting `<unk>` which stands for \"unknown.\" This token will represent any word not found in the vocabulary during training or inference. This vocabulary will allow us to convert words into numerical indices, making it easier to process text as input for the RNN model."
      ],
      "metadata": {
        "id": "4qv_EtPjZTfw"
      },
      "id": "4qv_EtPjZTfw"
    },
    {
      "cell_type": "code",
      "execution_count": 7,
      "id": "794d0375",
      "metadata": {
        "id": "794d0375"
      },
      "outputs": [],
      "source": [
        "# Build the vocabulary from the tokenized training dataset\n",
        "vocab = build_vocab_from_iterator(\n",
        "    yield_tokens(train_dataset),\n",
        "    specials=['<unk>']\n",
        ")\n",
        "\n",
        "# Set the unknown token ('<unk>') to have a default index of 0\n",
        "vocab.set_default_index(vocab['<unk>'])"
      ]
    },
    {
      "cell_type": "markdown",
      "source": [
        "Let's test the tokenizer..."
      ],
      "metadata": {
        "id": "dNTjUq-pbCvb"
      },
      "id": "dNTjUq-pbCvb"
    },
    {
      "cell_type": "code",
      "execution_count": 8,
      "id": "b48268d4",
      "metadata": {
        "id": "b48268d4",
        "colab": {
          "base_uri": "https://localhost:8080/"
        },
        "outputId": "8469fe20-a46b-4346-b553-d3fb9c21eb05"
      },
      "outputs": [
        {
          "output_type": "stream",
          "name": "stdout",
          "text": [
            "Let's convert this list of words: ['welcome', 'to', 'te3007'] into a list of tokens: [3314, 4, 0]\n"
          ]
        }
      ],
      "source": [
        "# Test the tokenizer\n",
        "tokens = tokenizer('Welcome to TE3007')\n",
        "\n",
        "# Convert the list of words into a list of tokens using the vocabulary\n",
        "print(f\"Let's convert this list of words: {tokens} into a list of tokens: {vocab(tokens)}\")"
      ]
    },
    {
      "cell_type": "markdown",
      "source": [
        "Now, let's split the train set into train and validation sets. The train set will contain 90% of the original training data, ensuring that the remaining 10% is available for validation."
      ],
      "metadata": {
        "id": "IFEkDaziblRJ"
      },
      "id": "IFEkDaziblRJ"
    },
    {
      "cell_type": "code",
      "execution_count": 9,
      "id": "c8c8f6a6",
      "metadata": {
        "id": "c8c8f6a6"
      },
      "outputs": [],
      "source": [
        "# Calculate the number of training and validation samples\n",
        "NUM_TRAIN = int(len(train_dataset) * 0.9)\n",
        "NUM_VAL = len(train_dataset) - NUM_TRAIN"
      ]
    },
    {
      "cell_type": "code",
      "execution_count": 10,
      "id": "8290895e",
      "metadata": {
        "id": "8290895e"
      },
      "outputs": [],
      "source": [
        "# Split the training dataset into training and validation sets\n",
        "train_dataset, val_dataset = random_split(train_dataset, [NUM_TRAIN, NUM_VAL])"
      ]
    },
    {
      "cell_type": "code",
      "execution_count": 11,
      "id": "cbc75b54",
      "metadata": {
        "id": "cbc75b54",
        "colab": {
          "base_uri": "https://localhost:8080/"
        },
        "outputId": "39c2a86d-7df1-4d0b-bd00-16420a6f79d2"
      },
      "outputs": [
        {
          "output_type": "stream",
          "name": "stdout",
          "text": [
            "Train dataset: 108000, Validation set: 12000, Test set: 7600\n"
          ]
        }
      ],
      "source": [
        "# Print the sizes of the train, validation, and test datasets\n",
        "print(f'Train dataset: {len(train_dataset)}, '\n",
        "      f'Validation set: {len(val_dataset)}, '\n",
        "      f'Test set: {len(test_dataset)}')"
      ]
    },
    {
      "cell_type": "markdown",
      "source": [
        "Then we required a function that prepares the batch by tokenizing, padding/truncating sequences, and adjusting labels, making it compatible for processing by the model. The function will return a Pytorch tensor with these tokenized and padded sequences. Also, note that in here we are converting labels in this way:\n",
        "\n",
        "Classes:\n",
        "* 1 - World\n",
        "* 2 - Sports\n",
        "* 3 - Business\n",
        "* 4 - Sci/Tech\n",
        "\n",
        "We will convert them to:\n",
        "* 0 - World\n",
        "* 1 - Sports\n",
        "* 2 - Business\n",
        "* 3 - Sci/Tech"
      ],
      "metadata": {
        "id": "iDT_5WLIdgkY"
      },
      "id": "iDT_5WLIdgkY"
    },
    {
      "cell_type": "code",
      "execution_count": 12,
      "id": "ffdbf077",
      "metadata": {
        "id": "ffdbf077"
      },
      "outputs": [],
      "source": [
        "# Function passed to the DataLoader to process a batch of data as indicated\n",
        "def collate_batch(batch):\n",
        "    \"\"\"\n",
        "    Collates a batch of data by tokenizing the text and preparing labels.\n",
        "\n",
        "    Args:\n",
        "        batch (list): A list of tuples, where each tuple contains a label and a text string.\n",
        "\n",
        "    Returns:\n",
        "        tuple: A tuple containing two tensors:\n",
        "            - A tensor of tokenized and padded text sequences (shape: [batch_size, max_tokens])\n",
        "            - A tensor of labels (shifted by 1 to be in the range 0-3)\n",
        "    \"\"\"\n",
        "    # Get label and text\n",
        "    y, x = list(zip(*batch))\n",
        "\n",
        "    # Create a list with indices from the tokenizer\n",
        "    x = [vocab(tokenizer(text)) for text in x]\n",
        "\n",
        "    # Pad or truncate the tokenized sequences to ensure they are of length max_tokens\n",
        "    x = [t + ([0] * (max_tokens - len(t))) if len(t) < max_tokens else t[:max_tokens] for t in x]\n",
        "\n",
        "    # Prepare the labels by subtracting 1 to shift them to the range 0-3\n",
        "    return torch.tensor(x, dtype=torch.int32), torch.tensor(y, dtype=torch.int64) - 1"
      ]
    },
    {
      "cell_type": "markdown",
      "source": [
        "Let's set the labels, max number of tokens for the batching and the batch size..."
      ],
      "metadata": {
        "id": "FWoIYHVojSGr"
      },
      "id": "FWoIYHVojSGr"
    },
    {
      "cell_type": "code",
      "execution_count": 13,
      "id": "5eb459c7",
      "metadata": {
        "id": "5eb459c7"
      },
      "outputs": [],
      "source": [
        "# List of labels for the dataset categories\n",
        "labels = ['World', 'Sports', 'Business', 'Sci/Tech']\n",
        "\n",
        "# Maximum number of tokens allowed per text sequence\n",
        "max_tokens = 50\n",
        "\n",
        "# Batch size for data loading\n",
        "BATCH_SIZE = 256"
      ]
    },
    {
      "cell_type": "markdown",
      "source": [
        "Also, we need to convert the datasets into DataLoaders for Pytorch processing.  We use `DataLoader` to load data in batches and ensures that the data is efficiently processed during training and evaluation."
      ],
      "metadata": {
        "id": "mIRpi81vjeey"
      },
      "id": "mIRpi81vjeey"
    },
    {
      "cell_type": "code",
      "execution_count": 14,
      "id": "0a55e6ee",
      "metadata": {
        "id": "0a55e6ee"
      },
      "outputs": [],
      "source": [
        "# Create DataLoader for the training dataset\n",
        "train_loader = DataLoader(\n",
        "    train_dataset,\n",
        "    batch_size=BATCH_SIZE,\n",
        "    collate_fn=collate_batch,\n",
        "    shuffle=True\n",
        ")\n",
        "\n",
        "# Create DataLoader for the validation dataset\n",
        "val_loader = DataLoader(\n",
        "    val_dataset,\n",
        "    batch_size=BATCH_SIZE,\n",
        "    collate_fn=collate_batch,\n",
        "    shuffle=True\n",
        ")\n",
        "\n",
        "# Create DataLoader for the test dataset\n",
        "test_loader = DataLoader(\n",
        "    test_dataset,\n",
        "    batch_size=BATCH_SIZE,\n",
        "    collate_fn=collate_batch,\n",
        "    shuffle=True\n",
        ")"
      ]
    },
    {
      "cell_type": "markdown",
      "source": [
        "## Model Setup"
      ],
      "metadata": {
        "id": "womofYlLP-fX"
      },
      "id": "womofYlLP-fX"
    },
    {
      "cell_type": "markdown",
      "source": [
        "We have designed the model RNN_model_1 to classify text data (AG_NEWS dataset in this case) by processing it with an RNN-based architecture and it gives the possibility to use 3 RNN types such as GRU, LSTM and baseline RNN. The model uses word embeddings to convert words into vector representations, applies an RNN to capture sequential patterns, and then classifies the final output using a fully connected layer, in this case, to the four classes that were defined previously."
      ],
      "metadata": {
        "id": "qPsn8KaimZhW"
      },
      "id": "qPsn8KaimZhW"
    },
    {
      "cell_type": "markdown",
      "id": "47b98898",
      "metadata": {
        "id": "47b98898"
      },
      "source": [
        "#### Let us build our RNN model"
      ]
    },
    {
      "cell_type": "code",
      "execution_count": 15,
      "id": "0f7f5621",
      "metadata": {
        "id": "0f7f5621"
      },
      "outputs": [],
      "source": [
        "class RNN_Model_1(nn.Module):\n",
        "    \"\"\"\n",
        "    A neural network model using RNN (GRU, LSTM, or RNN) for text classification.\n",
        "\n",
        "    Args:\n",
        "        embed_size (int): The size of the embedding vectors.\n",
        "        hidden (int): The number of hidden units in the RNN layer.\n",
        "        layers (int): The number of layers in the RNN.\n",
        "        num_classes (int): The number of output classes.\n",
        "        rnn_type (str, optional): Type of RNN ('GRU', 'LSTM', 'RNN'). Default is 'GRU'.\n",
        "        dropout_prob (float, optional): Probability of dropout. Default is 0.3.\n",
        "    \"\"\"\n",
        "\n",
        "    def __init__(self, embed_size, hidden, layers, num_classes, rnn_type='GRU', dropout_prob=0.3):\n",
        "        super().__init__()\n",
        "\n",
        "        # Embedding layer to convert words into dense vectors\n",
        "        self.embedding_layer = nn.Embedding(num_embeddings=len(vocab), embedding_dim=embed_size)\n",
        "\n",
        "        # Dropout layer to prevent overfitting\n",
        "        self.dropout = nn.Dropout(dropout_prob)\n",
        "\n",
        "        # RNN layer selection based on rnn_type parameter\n",
        "        if rnn_type == 'GRU':\n",
        "            self.rnn = nn.GRU(input_size=embed_size,\n",
        "                              hidden_size=hidden,\n",
        "                              num_layers=layers,\n",
        "                              batch_first=True)\n",
        "        elif rnn_type == 'LSTM':\n",
        "            self.rnn = nn.LSTM(input_size=embed_size,\n",
        "                               hidden_size=hidden,\n",
        "                               num_layers=layers,\n",
        "                               batch_first=True)\n",
        "        elif rnn_type == 'RNN':\n",
        "            self.rnn = nn.RNN(input_size=embed_size,\n",
        "                              hidden_size=hidden,\n",
        "                              num_layers=layers,\n",
        "                              batch_first=True)\n",
        "        else:\n",
        "            raise ValueError(\"Invalid rnn_type. Choose from 'GRU', 'LSTM', or 'RNN'.\")\n",
        "\n",
        "        # Fully connected output layer\n",
        "        self.fc = nn.Linear(hidden, num_classes)\n",
        "\n",
        "    def forward(self, x):\n",
        "        \"\"\"\n",
        "        Forward pass for the RNN model.\n",
        "\n",
        "        Args:\n",
        "            x (tensor): Input tensor of shape (batch_size, sequence_length).\n",
        "\n",
        "        Returns:\n",
        "            tensor: Output tensor after passing through the network.\n",
        "        \"\"\"\n",
        "        # Embed the input x\n",
        "        embedded = self.embedding_layer(x)\n",
        "\n",
        "        # RNN layer (we ignore the hidden state here for simplicity)\n",
        "        output, _ = self.rnn(embedded)\n",
        "\n",
        "        # Take the output from the last time step\n",
        "        final_output = output[:, -1, :]\n",
        "\n",
        "        # Pass through the fully connected layer\n",
        "        return self.fc(final_output)"
      ]
    },
    {
      "cell_type": "markdown",
      "source": [
        "## Implementing Accuracy Function"
      ],
      "metadata": {
        "id": "cfZVa0gjQGVC"
      },
      "id": "cfZVa0gjQGVC"
    },
    {
      "cell_type": "markdown",
      "source": [
        "Then we implemented thee function accuracy() that calculates the classification accuracy of the model over a given dataset. The function computes the accuracy of the model by evaluating its predictions over the provided data loader (e.g., train_loader, val_loader, or test_loader).\n",
        "It processes each batch in the loader, predicts the class for each sample, and counts how many predictions are correct.\n",
        "Finally, it returns the fraction of correct predictions out of the total number of samples."
      ],
      "metadata": {
        "id": "wndhS0FpqGE_"
      },
      "id": "wndhS0FpqGE_"
    },
    {
      "cell_type": "code",
      "execution_count": 16,
      "id": "2a42613f",
      "metadata": {
        "code_folding": [],
        "id": "2a42613f"
      },
      "outputs": [],
      "source": [
        "def accuracy(model, loader):\n",
        "    \"\"\"\n",
        "    Calculate the accuracy of the model on the given dataset.\n",
        "\n",
        "    Args:\n",
        "        model (nn.Module): The neural network model to evaluate.\n",
        "        loader (DataLoader): The DataLoader for the dataset to evaluate on.\n",
        "\n",
        "    Returns:\n",
        "        float: The accuracy of the model as a fraction.\n",
        "    \"\"\"\n",
        "    correct = 0\n",
        "    total = 0\n",
        "\n",
        "    # Disable gradient calculation for evaluation (inference mode)\n",
        "    with torch.no_grad():\n",
        "        for x, y in loader:\n",
        "            # Move data to the specified device (GPU or CPU)\n",
        "            x, y = x.to(device), y.to(device)\n",
        "\n",
        "            # Get model predictions\n",
        "            outputs = model(x)\n",
        "\n",
        "            # Get the index of the maximum log-probability for classification\n",
        "            _, predicted = torch.max(outputs, 1)\n",
        "\n",
        "            # Update the count of correct predictions\n",
        "            correct += (predicted == y).sum().item()\n",
        "\n",
        "            # Update the total count of examples\n",
        "            total += y.size(0)\n",
        "\n",
        "    # Calculate accuracy as the ratio of correct predictions to total predictions\n",
        "    return correct / total"
      ]
    },
    {
      "cell_type": "markdown",
      "source": [
        "## Training Function"
      ],
      "metadata": {
        "id": "rMX3ByJfQNPg"
      },
      "id": "rMX3ByJfQNPg"
    },
    {
      "cell_type": "markdown",
      "source": [
        "Furthermore, we created the training functions that loops over each epoch, computes the loss for each batch, and updates the model parameters. For each batch, it calculates the loss and backpropagates the error through the network, and after each epoch, the function calculates the model's performance on a validation dataset and prints the results."
      ],
      "metadata": {
        "id": "pFZQADDUq0hw"
      },
      "id": "pFZQADDUq0hw"
    },
    {
      "cell_type": "code",
      "execution_count": 17,
      "id": "5e843e1f",
      "metadata": {
        "code_folding": [],
        "id": "5e843e1f"
      },
      "outputs": [],
      "source": [
        "def train(model, optimiser, train_loader, val_loader, epochs=100):\n",
        "    \"\"\"\n",
        "    Train the model on the training dataset and evaluate on the validation dataset.\n",
        "\n",
        "    Args:\n",
        "        model (nn.Module): The neural network model to be trained.\n",
        "        optimiser (torch.optim.Optimizer): The optimizer used for training the model.\n",
        "        train_loader (DataLoader): The DataLoader for the training dataset.\n",
        "        val_loader (DataLoader): The DataLoader for the validation dataset.\n",
        "        epochs (int, optional): The number of epochs to train the model. Default is 100.\n",
        "    \"\"\"\n",
        "    # Set the model to training mode (enables behaviors like dropout)\n",
        "    model.train()\n",
        "\n",
        "    # Define the loss function (Cross-Entropy Loss for classification)\n",
        "    criterion = nn.CrossEntropyLoss()\n",
        "\n",
        "    # Loop through each epoch\n",
        "    for epoch in range(epochs):\n",
        "        running_loss = 0.0\n",
        "\n",
        "        # Loop through each batch in the training dataset\n",
        "        for x, y in train_loader:\n",
        "            # Move data to the specified device (GPU or CPU)\n",
        "            x, y = x.to(device), y.to(device)\n",
        "\n",
        "            # Forward pass: compute model predictions\n",
        "            outputs = model(x)\n",
        "\n",
        "            # Compute the loss between predictions and true labels\n",
        "            loss = criterion(outputs, y)\n",
        "\n",
        "            # Backward pass and optimization\n",
        "            optimiser.zero_grad()  # Clear previous gradients\n",
        "            loss.backward()  # Backpropagate the error\n",
        "            optimiser.step()  # Update the model parameters\n",
        "\n",
        "            # Track the running loss for the epoch\n",
        "            running_loss += loss.item()\n",
        "\n",
        "        # Calculate average training loss for this epoch\n",
        "        avg_loss = running_loss / len(train_loader)\n",
        "\n",
        "        # Validate model performance after each epoch\n",
        "        val_accuracy = accuracy(model, val_loader)\n",
        "\n",
        "        # Ensure the model is back in training mode for the next epoch\n",
        "        model.train()\n",
        "\n",
        "        # Print the results for the current epoch\n",
        "        print(f'Epoch [{epoch + 1}/{epochs}], Loss: {avg_loss:.4f}, Validation Accuracy: {val_accuracy:.4f}')"
      ]
    },
    {
      "cell_type": "markdown",
      "source": [
        "Let's define hyperparameters. After varying the hyperparameters we set them according to the best performance of around 90% of accuracy:"
      ],
      "metadata": {
        "id": "nkaBLAK2nzMv"
      },
      "id": "nkaBLAK2nzMv"
    },
    {
      "cell_type": "code",
      "execution_count": 18,
      "id": "50f20793",
      "metadata": {
        "id": "50f20793"
      },
      "outputs": [],
      "source": [
        "# Model configuration parameters\n",
        "RNN_TYPE = 'GRU'      # Choose from \"GRU\", \"LSTM\", or \"RNN\" (type of RNN)\n",
        "EMBEDDING_SIZE = 128  # Dimension of word embeddings\n",
        "NEURONS = 256         # Number of neurons in the RNN layer\n",
        "LAYERS = 4            # Number of RNN layers\n",
        "NUM_CLASSES = 4       # Number of output classes (for AG_NEWS dataset)\n",
        "DROPOUT_PROB = 0.3    # Probability of dropout to prevent overfitting"
      ]
    },
    {
      "cell_type": "code",
      "execution_count": 19,
      "id": "87775b29",
      "metadata": {
        "id": "87775b29"
      },
      "outputs": [],
      "source": [
        "# Training configuration\n",
        "epochs = 10  # Number of epochs to train the model\n",
        "lr = 0.001   # Learning rate for the optimizer\n",
        "\n",
        "# Instantiate the model\n",
        "rnn_model = RNN_Model_1(\n",
        "    EMBEDDING_SIZE,  # Size of word embeddings\n",
        "    NEURONS,         # Number of neurons in the RNN layer\n",
        "    LAYERS,          # Number of RNN layers\n",
        "    NUM_CLASSES,     # Number of output classes\n",
        "    RNN_TYPE,        # Type of RNN (\"GRU\", \"LSTM\", or \"RNN\")\n",
        "    DROPOUT_PROB     # Dropout probability to prevent overfitting\n",
        ").to(device)  # Move the model to the specified device (CPU or GPU)\n",
        "\n",
        "# Instantiate the optimizer\n",
        "optimiser = torch.optim.Adam(rnn_model.parameters(), lr=lr)  # Adam optimizer with the specified learning rate"
      ]
    },
    {
      "cell_type": "markdown",
      "source": [
        "Now, let's train the model..."
      ],
      "metadata": {
        "id": "8sQIwCHtolZb"
      },
      "id": "8sQIwCHtolZb"
    },
    {
      "cell_type": "code",
      "execution_count": 20,
      "id": "aec12a1b",
      "metadata": {
        "scrolled": true,
        "id": "aec12a1b",
        "colab": {
          "base_uri": "https://localhost:8080/"
        },
        "outputId": "bc296257-2d5b-4e5e-fd65-90826719ed1c"
      },
      "outputs": [
        {
          "output_type": "stream",
          "name": "stdout",
          "text": [
            "Epoch [1/10], Loss: 0.6333, Validation Accuracy: 0.8763\n",
            "Epoch [2/10], Loss: 0.2823, Validation Accuracy: 0.8933\n",
            "Epoch [3/10], Loss: 0.2067, Validation Accuracy: 0.9029\n",
            "Epoch [4/10], Loss: 0.1527, Validation Accuracy: 0.9041\n",
            "Epoch [5/10], Loss: 0.1149, Validation Accuracy: 0.9103\n",
            "Epoch [6/10], Loss: 0.0833, Validation Accuracy: 0.9059\n",
            "Epoch [7/10], Loss: 0.0617, Validation Accuracy: 0.9073\n",
            "Epoch [8/10], Loss: 0.0474, Validation Accuracy: 0.9044\n",
            "Epoch [9/10], Loss: 0.0366, Validation Accuracy: 0.9044\n",
            "Epoch [10/10], Loss: 0.0285, Validation Accuracy: 0.9065\n"
          ]
        }
      ],
      "source": [
        "# Train the model with the specified parameters\n",
        "train(\n",
        "    rnn_model,                  # The RNN model to be trained\n",
        "    optimiser=optimiser,        # The optimizer used for training\n",
        "    train_loader=train_loader,  # DataLoader for the training dataset\n",
        "    val_loader=val_loader,      # DataLoader for the validation dataset\n",
        "    epochs=epochs               # Number of epochs to train the model\n",
        ")"
      ]
    },
    {
      "cell_type": "markdown",
      "source": [
        "We obtain a similar accuracy between validation and tests set and the difference between both is less than 3% so we can conclude the model is performing without overfitting."
      ],
      "metadata": {
        "id": "5Tan5MUgoqfE"
      },
      "id": "5Tan5MUgoqfE"
    },
    {
      "cell_type": "code",
      "execution_count": 21,
      "id": "7a3ef175",
      "metadata": {
        "id": "7a3ef175",
        "colab": {
          "base_uri": "https://localhost:8080/"
        },
        "outputId": "13e4fdf2-4f67-4d3c-a7c5-970bcead8e79"
      },
      "outputs": [
        {
          "output_type": "stream",
          "name": "stdout",
          "text": [
            "Test Accuracy: 0.9062\n"
          ]
        }
      ],
      "source": [
        "# Evaluate the model on the test set and print the accuracy\n",
        "test_accuracy = accuracy(rnn_model, test_loader)  # Calculate accuracy on the test dataset\n",
        "print(f'Test Accuracy: {test_accuracy:.4f}')  # Print the test accuracy rounded to four decimal places"
      ]
    },
    {
      "cell_type": "markdown",
      "source": [
        "## Text Sampling"
      ],
      "metadata": {
        "id": "vDL9HLLQQV6m"
      },
      "id": "vDL9HLLQQV6m"
    },
    {
      "cell_type": "markdown",
      "source": [
        " The function created is used for sampling a single text from a dataset and making a prediction using a trained model. Basically, a data loders is provided, typically from validation or test sets, then the text is predicted or in this case it is classified and finally it the text and class or label are returned."
      ],
      "metadata": {
        "id": "XANjn5Qhrcyt"
      },
      "id": "XANjn5Qhrcyt"
    },
    {
      "cell_type": "code",
      "execution_count": 23,
      "id": "ed30693d",
      "metadata": {
        "id": "ed30693d"
      },
      "outputs": [],
      "source": [
        "def sample_text(model, loader):\n",
        "    \"\"\"\n",
        "    Sample text from the test set and get the model's prediction.\n",
        "\n",
        "    Args:\n",
        "        model (nn.Module): The trained model to make predictions.\n",
        "        loader (DataLoader): The DataLoader containing the test dataset.\n",
        "    \"\"\"\n",
        "    # Set the model to evaluation mode (disables dropout, batchnorm, etc.)\n",
        "    model.eval()\n",
        "\n",
        "    with torch.no_grad():  # Disable gradient calculation (save memory during inference)\n",
        "        # Get a sample from the test loader (first batch)\n",
        "        sample_data = next(iter(loader))  # Retrieve the first batch from the loader\n",
        "        x, y = sample_data\n",
        "        x, y = x.to(device), y.to(device)  # Move data to the specified device (CPU or GPU)\n",
        "\n",
        "        # Get predictions from the model\n",
        "        outputs = model(x)\n",
        "        _, predicted = torch.max(outputs, 1)  # Get the index of the maximum output value\n",
        "\n",
        "        # Convert token indices to text for the sample\n",
        "        sample_text = vocab.lookup_tokens(x[0].cpu().tolist())  # Convert token indices to words\n",
        "        predicted_label = labels[predicted[0].item()]  # Get the predicted label\n",
        "\n",
        "        # Display the sample text and its predicted label\n",
        "        print(f\"Sample Text: {' '.join(sample_text)}\")\n",
        "        print(f\"Predicted Label: {predicted_label}\")"
      ]
    },
    {
      "cell_type": "markdown",
      "source": [
        "Let's check some exaples where a text from the news are provided and the model successfully clasifies the text into the four classes."
      ],
      "metadata": {
        "id": "L45q5iuqupMJ"
      },
      "id": "L45q5iuqupMJ"
    },
    {
      "cell_type": "code",
      "execution_count": 24,
      "id": "534f0220",
      "metadata": {
        "id": "534f0220",
        "colab": {
          "base_uri": "https://localhost:8080/"
        },
        "outputId": "ed26f7bf-3481-4d85-ca36-6cd007b7bacf"
      },
      "outputs": [
        {
          "output_type": "stream",
          "name": "stdout",
          "text": [
            "Sample Text: <unk> la la , apple unveils new imac ( siliconvalley . com ) siliconvalley . com - attempting to capitalize on ipod mania , apple computer tuesday unveiled a fast new version of the imac that it all but touted as a smart accessory for the sexy music players .\n",
            "Predicted Label: Sci/Tech\n"
          ]
        }
      ],
      "source": [
        "# Call the sample_text function to evaluate a sample from the test dataset\n",
        "sample_text(rnn_model, test_loader)  # Pass the trained model and the test DataLoader"
      ]
    },
    {
      "cell_type": "code",
      "source": [
        "# Call the sample_text function to evaluate a sample from the test dataset\n",
        "sample_text(rnn_model, test_loader)  # Pass the trained model and the test DataLoader"
      ],
      "metadata": {
        "colab": {
          "base_uri": "https://localhost:8080/"
        },
        "id": "-K4jHJPO_V6U",
        "outputId": "8fff74a3-117f-42f0-deaf-02131d0648e3"
      },
      "id": "-K4jHJPO_V6U",
      "execution_count": 25,
      "outputs": [
        {
          "output_type": "stream",
          "name": "stdout",
          "text": [
            "Sample Text: lowe #39 s forecast hammers stock home improvement retailer lowe #39 s cos . ( low . n quote , profile , research ) on monday reported a 15 percent rise in third-quarter profit , aided by its expansion to new york <unk> <unk> <unk> <unk> <unk> <unk> <unk> <unk>\n",
            "Predicted Label: Business\n"
          ]
        }
      ]
    },
    {
      "cell_type": "code",
      "source": [
        "# Call the sample_text function to evaluate a sample from the test dataset\n",
        "sample_text(rnn_model, test_loader)  # Pass the trained model and the test DataLoader"
      ],
      "metadata": {
        "colab": {
          "base_uri": "https://localhost:8080/"
        },
        "id": "if852sqc_V3p",
        "outputId": "0cf79d5f-01fb-4e49-acd4-9f84c258e7ea"
      },
      "id": "if852sqc_V3p",
      "execution_count": 26,
      "outputs": [
        {
          "output_type": "stream",
          "name": "stdout",
          "text": [
            "Sample Text: viduka brace helps boro to win after a spell without scoring , mark viduka grabbed two goals as middlesbrough beat manchester city 3-2 . boro went ahead when viduka took stewart <unk> pass , brought it <unk> under control and chipped it over onrushing city keeper david james . <unk>\n",
            "Predicted Label: Sports\n"
          ]
        }
      ]
    },
    {
      "cell_type": "markdown",
      "source": [
        "As can be seen, the model is correctly classifying the text into the appropriate categories, as the content of the news aligns with the topics of those categories."
      ],
      "metadata": {
        "id": "ohohIyeCyE6e"
      },
      "id": "ohohIyeCyE6e"
    },
    {
      "cell_type": "markdown",
      "source": [
        "## Confusion Matrix"
      ],
      "metadata": {
        "id": "IcFYyXMBQdvB"
      },
      "id": "IcFYyXMBQdvB"
    },
    {
      "cell_type": "markdown",
      "source": [
        "A good metric for classification is the confusion matrix, in this case we created a function that plots the confusion matrix for the predicted and real values for the four news' categories."
      ],
      "metadata": {
        "id": "7eQfa_oL0KcY"
      },
      "id": "7eQfa_oL0KcY"
    },
    {
      "cell_type": "code",
      "execution_count": 44,
      "id": "bb38e093",
      "metadata": {
        "id": "bb38e093"
      },
      "outputs": [],
      "source": [
        "def plot_confusion_matrix(model, loader):\n",
        "    \"\"\"\n",
        "    Plot a confusion matrix for the given model and dataset.\n",
        "\n",
        "    Args:\n",
        "        model (nn.Module): The trained model to make predictions.\n",
        "        loader (DataLoader): DataLoader for the test dataset.\n",
        "    \"\"\"\n",
        "    model.eval()  # Set the model to evaluation mode\n",
        "    all_labels = []\n",
        "    all_predictions = []\n",
        "\n",
        "    # Mapping of numerical labels to category names\n",
        "    category_labels = [\"World\", \"Sports\", \"Business\", \"Sci/Tech\"]\n",
        "    label_map = {0: \"World\", 1: \"Sports\", 2: \"Business\", 3: \"Sci/Tech\"}\n",
        "\n",
        "    with torch.no_grad():  # Disable gradient calculation for evaluation\n",
        "        for x, y in loader:\n",
        "            x, y = x.to(device), y.to(device)\n",
        "\n",
        "            # Get model predictions\n",
        "            outputs = model(x)\n",
        "            _, predicted = torch.max(outputs, 1)\n",
        "\n",
        "            # Store true labels and predictions\n",
        "            all_labels.extend(y.cpu().numpy())\n",
        "            all_predictions.extend(predicted.cpu().numpy())\n",
        "\n",
        "    # Convert numerical labels to category names\n",
        "    all_labels = [label_map[label] for label in all_labels]\n",
        "    all_predictions = [label_map[pred] for pred in all_predictions]\n",
        "\n",
        "    # Create confusion matrix\n",
        "    cm = confusion_matrix(all_labels, all_predictions, labels=category_labels)\n",
        "\n",
        "    # Plot confusion matrix with category names as labels\n",
        "    skplt.metrics.plot_confusion_matrix(\n",
        "        all_labels,\n",
        "        all_predictions,\n",
        "        figsize=(8, 8),\n",
        "        labels=category_labels\n",
        "    )\n",
        "    plt.show()"
      ]
    },
    {
      "cell_type": "markdown",
      "source": [
        "# Analysis of the confusion matrix"
      ],
      "metadata": {
        "id": "AUw0pK-S40yn"
      },
      "id": "AUw0pK-S40yn"
    },
    {
      "cell_type": "code",
      "source": [
        "# Call the plot_confusion_matrix function to evaluate the model's performance on the test set\n",
        "plot_confusion_matrix(rnn_model, test_loader)  # Pass the trained model and the test DataLoader"
      ],
      "metadata": {
        "colab": {
          "base_uri": "https://localhost:8080/",
          "height": 653
        },
        "id": "RY4RmP8E-kGj",
        "outputId": "ed3d7c95-16f3-433e-bbbe-21a327f0e846"
      },
      "id": "RY4RmP8E-kGj",
      "execution_count": 45,
      "outputs": [
        {
          "output_type": "display_data",
          "data": {
            "text/plain": [
              "<Figure size 800x800 with 2 Axes>"
            ],
            "image/png": "[encoded data removed]"
          },
          "metadata": {}
        }
      ]
    },
    {
      "cell_type": "markdown",
      "source": [
        "**Insights**\n",
        "\n",
        "- **World News**: The model appears to perform well in classifying \"World\" news, as the diagonal element for this class is relatively high.\n",
        "- **Sports News**: The model also performs well in classifying \"Sports\" news.\n",
        "- **Business and Sci/Tech News**: The model might have more difficulty distinguishing between \"Business\" and \"Sci/Tech\" news, as there might be some overlap in the language used in these categories. This is indicated by the off-diagonal elements between these two classes."
      ],
      "metadata": {
        "id": "y5p0dcJc7ET2"
      },
      "id": "y5p0dcJc7ET2"
    },
    {
      "cell_type": "markdown",
      "source": [
        "## Conclusion"
      ],
      "metadata": {
        "id": "GAWOYIhX1hPm"
      },
      "id": "GAWOYIhX1hPm"
    },
    {
      "cell_type": "markdown",
      "source": [
        "In this activity, we applied Recurrent Neural Networks (RNNs) to classify text from the AG_NEWS dataset. RNNs are effective for sequential data, capturing temporal dependencies in text. The model achieved solid performance with validation accuracies above 90%. However, there are opportunities for improvement. Switching to more advanced architectures like LSTM or GRU could help capture longer-term dependencies. Using pre-trained word embeddings like GloVe or Word2Vec could enhance the model's understanding of word semantics. Hyperparameter tuning, such as adjusting learning rate, batch size, and dropout rate, could also improve accuracy. Additionally, after some research we found that incorporating bidirectional RNNs or attention mechanisms might further boost performance by better handling context in text. These strategies can lead .to more accurate and robust models for text classification tasks like AG_NEW"
      ],
      "metadata": {
        "id": "ui7eYPdt303R"
      },
      "id": "ui7eYPdt303R"
    }
  ],
  "metadata": {
    "kernelspec": {
      "display_name": "Python 3",
      "name": "python3"
    },
    "language_info": {
      "codemirror_mode": {
        "name": "ipython",
        "version": 3
      },
      "file_extension": ".py",
      "mimetype": "text/x-python",
      "name": "python",
      "nbconvert_exporter": "python",
      "pygments_lexer": "ipython3",
      "version": "3.9.0"
    },
    "varInspector": {
      "cols": {
        "lenName": 16,
        "lenType": 16,
        "lenVar": 40
      },
      "kernels_config": {
        "python": {
          "delete_cmd_postfix": "",
          "delete_cmd_prefix": "del ",
          "library": "var_list.py",
          "varRefreshCmd": "print(var_dic_list())"
        },
        "r": {
          "delete_cmd_postfix": ") ",
          "delete_cmd_prefix": "rm(",
          "library": "var_list.r",
          "varRefreshCmd": "cat(var_dic_list()) "
        }
      },
      "types_to_exclude": [
        "module",
        "function",
        "builtin_function_or_method",
        "instance",
        "_Feature"
      ],
      "window_display": false
    },
    "colab": {
      "provenance": [],
      "gpuType": "T4"
    },
    "accelerator": "GPU"
  },
  "nbformat": 4,
  "nbformat_minor": 5
}